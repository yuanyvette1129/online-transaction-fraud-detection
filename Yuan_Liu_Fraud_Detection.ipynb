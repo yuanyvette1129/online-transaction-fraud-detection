{
  "nbformat": 4,
  "nbformat_minor": 0,
  "metadata": {
    "colab": {
      "name": "Yuan_Liu_Fraud_Detection.ipynb",
      "provenance": [],
      "collapsed_sections": []
    },
    "kernelspec": {
      "name": "python3",
      "display_name": "Python 3"
    }
  },
  "cells": [
    {
      "cell_type": "markdown",
      "metadata": {
        "id": "_EbKIUQZSc30"
      },
      "source": [
        "# Background\n",
        "- E-commerce fraud detection\n",
        "- E-commerce websites often transact huge amounts of money. And whenever a huge amount of money is moved, there is a high risk of users performing fraudulent activities, eg. using stolen credit cards, doing money laundray, etc.\n",
        "\n",
        "- Machine Learning really excels at identifying fraudulent activities. Any website where you put your credict card information has a risk team in charge of avoiding frauds via machine learning.\n",
        "\n",
        "# Goal\n",
        "\n",
        "The goal of this challenge is to build a machine learning model that predicts the probability that the first transaction of a new user is fraudulent.\n",
        "\n",
        "# Data\n",
        "- Company XYZ is an e-commerce site that sells eletronic products\n",
        "- You have to build a model that predicts whether a user has a high probability of using the site to perform some illegal activity or not. This is a commom task for data scientists. You only have information about most of the user first transaction on the site and based on that you have to make your classification of fraud or no fraud.\n",
        "- \"Fraud_Data\" information about each user first transaction\n",
        "- \"IpAddress_to_Country\" mapping each numeric ip address to its country. For each country, it gives a range. If the numeric ip address falls within the range, then the ip address belongs to the correpsonding country\n",
        "\n",
        "# Tasks\n",
        "1. For each user, determine his/her country based on the numeric IP address\n",
        "2. Build a model to predict whether an activity is fraudulent or not. Explain how different assumptions about the cost of false positives vs. false negatives would impact the model\n",
        "3. Your boss is a bit worried about using a model she doesn't understand for something as important as fraud detection. How would you explain to her how the model is making the predictions? Not from a methematical perspective, but from a user perspective. What kind of users are more likely to be classified as at risk? What are their characteristics?\n",
        "4. Let's say you now have this model which can be used to predict in real time if an activity is fraudulent or not. From a product perspective, how would you use it? That is, what kind of differnet user experiences would you build based on the model output? i.e. based on your prediction, are you going to approve/decline this transaction?\n",
        "\n",
        "\n",
        "# Summary of findings\n",
        "- Data is highly imbalanced\n",
        "- I trained a random forest model, and after parameter tuning, it reached an F1 score 0.687. Since data is high imbalanced, I tried SMOTE technique but it did not improve f1 score. instead, it increases false positives a lot. \n",
        "- Characteristics of fraud: half of fraudulent purchase trasactions occur 1 second after account sign up. The more device_id/ip_address that is shared, the higher rate of fraud. \n",
        "\n",
        "- Made actionable operation recommendations/proposal for business: in real-time prediction, if a transaction has a predcited probability of fraud lower than 0.3, then we can safely pass. If prob between 0.4-0.7, we need manual investigation. If above 0.8, decline this transaction. "
      ]
    },
    {
      "cell_type": "markdown",
      "metadata": {
        "id": "zfjXN4EwS3eo"
      },
      "source": [
        "# 1. Load Data\n"
      ]
    },
    {
      "cell_type": "code",
      "metadata": {
        "id": "iSjSPRXiRQuI"
      },
      "source": [
        "import pandas as pd\n",
        "import numpy as np\n",
        "import time\n",
        "import matplotlib.pyplot as plt\n",
        "import pandas as pd\n",
        "import seaborn as sns\n",
        "%matplotlib inline \n",
        "from sklearn import metrics\n",
        "from sklearn.metrics import roc_curve\n",
        "from sklearn.model_selection import train_test_split\n",
        "from sklearn.linear_model import LogisticRegression\n",
        "from sklearn.ensemble import RandomForestClassifier\n",
        "from imblearn.over_sampling import SMOTE\n",
        "from sklearn import preprocessing\n",
        "from sklearn.preprocessing import MinMaxScaler\n",
        "from sklearn.metrics import f1_score, roc_auc_score, roc_curve, precision_recall_curve, auc, make_scorer, recall_score, accuracy_score, precision_score, confusion_matrix, classification_report\n",
        "from sklearn.model_selection import GridSearchCV"
      ],
      "execution_count": 78,
      "outputs": []
    },
    {
      "cell_type": "code",
      "metadata": {
        "id": "wYoVO3FrguFn",
        "outputId": "b397ed4c-6d2d-447c-8c6b-35f449045c43",
        "colab": {
          "base_uri": "https://localhost:8080/",
          "height": 119
        }
      },
      "source": [
        "!git clone https://github.com/loganlaioffer/fraudDetection.git"
      ],
      "execution_count": 3,
      "outputs": [
        {
          "output_type": "stream",
          "text": [
            "Cloning into 'fraudDetection'...\n",
            "remote: Enumerating objects: 11, done.\u001b[K\n",
            "remote: Counting objects: 100% (11/11), done.\u001b[K\n",
            "remote: Compressing objects: 100% (11/11), done.\u001b[K\n",
            "remote: Total 11 (delta 2), reused 0 (delta 0), pack-reused 0\u001b[K\n",
            "Unpacking objects: 100% (11/11), done.\n"
          ],
          "name": "stdout"
        }
      ]
    },
    {
      "cell_type": "code",
      "metadata": {
        "id": "NFGniid5hHqu",
        "outputId": "7227bd31-0994-403c-d9fd-6602796fb441",
        "colab": {
          "base_uri": "https://localhost:8080/",
          "height": 51
        }
      },
      "source": [
        "!cd fraudDetection/\n",
        "!ls fraudDetection/\n",
        "# !pip install -U imbalanced-learn\n",
        "# # !pip install pandas-profiling\n",
        "# !pip install https://github.com/pandas-profiling/pandas-profiling/archive/master.zip"
      ],
      "execution_count": 4,
      "outputs": [
        {
          "output_type": "stream",
          "text": [
            "cv_data.csv   imbalancedFraudDF.csv\ttest_data.csv\ttr_server_data.csv\n",
            "cv_label.csv  IpAddress_to_Country.csv\ttest_label.csv\n"
          ],
          "name": "stdout"
        }
      ]
    },
    {
      "cell_type": "code",
      "metadata": {
        "id": "thNVhMYcTASW"
      },
      "source": [
        "ipURL = 'https://github.com/loganlaioffer/fraudDetection/blob/master/IpAddress_to_Country.csv'\n",
        "fraudURL = 'https://github.com/loganlaioffer/fraudDetection/blob/master/imbalancedFraudDF.csv'\n",
        "\n",
        "ipToCountry = pd.read_csv('fraudDetection/IpAddress_to_Country.csv')\n",
        "fraud_data = pd.read_csv('fraudDetection/imbalancedFraudDF.csv')\n"
      ],
      "execution_count": 5,
      "outputs": []
    },
    {
      "cell_type": "code",
      "metadata": {
        "id": "gF2TuC6aFA1h",
        "outputId": "26f5dee1-04ff-4117-859e-ee360fc4d8d3",
        "colab": {
          "base_uri": "https://localhost:8080/",
          "height": 309
        }
      },
      "source": [
        "fraud_data.head()"
      ],
      "execution_count": 6,
      "outputs": [
        {
          "output_type": "execute_result",
          "data": {
            "text/html": [
              "<div>\n",
              "<style scoped>\n",
              "    .dataframe tbody tr th:only-of-type {\n",
              "        vertical-align: middle;\n",
              "    }\n",
              "\n",
              "    .dataframe tbody tr th {\n",
              "        vertical-align: top;\n",
              "    }\n",
              "\n",
              "    .dataframe thead th {\n",
              "        text-align: right;\n",
              "    }\n",
              "</style>\n",
              "<table border=\"1\" class=\"dataframe\">\n",
              "  <thead>\n",
              "    <tr style=\"text-align: right;\">\n",
              "      <th></th>\n",
              "      <th>user_id</th>\n",
              "      <th>signup_time</th>\n",
              "      <th>purchase_time</th>\n",
              "      <th>purchase_value</th>\n",
              "      <th>device_id</th>\n",
              "      <th>source</th>\n",
              "      <th>browser</th>\n",
              "      <th>sex</th>\n",
              "      <th>age</th>\n",
              "      <th>ip_address</th>\n",
              "      <th>class</th>\n",
              "    </tr>\n",
              "  </thead>\n",
              "  <tbody>\n",
              "    <tr>\n",
              "      <th>0</th>\n",
              "      <td>22058</td>\n",
              "      <td>2015-02-24 22:55:49</td>\n",
              "      <td>2015-04-18 02:47:11</td>\n",
              "      <td>34</td>\n",
              "      <td>QVPSPJUOCKZAR</td>\n",
              "      <td>SEO</td>\n",
              "      <td>Chrome</td>\n",
              "      <td>M</td>\n",
              "      <td>39</td>\n",
              "      <td>7.327584e+08</td>\n",
              "      <td>0</td>\n",
              "    </tr>\n",
              "    <tr>\n",
              "      <th>1</th>\n",
              "      <td>333320</td>\n",
              "      <td>2015-06-07 20:39:50</td>\n",
              "      <td>2015-06-08 01:38:54</td>\n",
              "      <td>16</td>\n",
              "      <td>EOGFQPIZPYXFZ</td>\n",
              "      <td>Ads</td>\n",
              "      <td>Chrome</td>\n",
              "      <td>F</td>\n",
              "      <td>53</td>\n",
              "      <td>3.503114e+08</td>\n",
              "      <td>0</td>\n",
              "    </tr>\n",
              "    <tr>\n",
              "      <th>2</th>\n",
              "      <td>150084</td>\n",
              "      <td>2015-04-28 21:13:25</td>\n",
              "      <td>2015-05-04 13:54:50</td>\n",
              "      <td>44</td>\n",
              "      <td>ATGTXKYKUDUQN</td>\n",
              "      <td>SEO</td>\n",
              "      <td>Safari</td>\n",
              "      <td>M</td>\n",
              "      <td>41</td>\n",
              "      <td>3.840542e+09</td>\n",
              "      <td>0</td>\n",
              "    </tr>\n",
              "    <tr>\n",
              "      <th>3</th>\n",
              "      <td>221365</td>\n",
              "      <td>2015-07-21 07:09:52</td>\n",
              "      <td>2015-09-09 18:40:53</td>\n",
              "      <td>39</td>\n",
              "      <td>NAUITBZFJKHWW</td>\n",
              "      <td>Ads</td>\n",
              "      <td>Safari</td>\n",
              "      <td>M</td>\n",
              "      <td>45</td>\n",
              "      <td>4.155831e+08</td>\n",
              "      <td>0</td>\n",
              "    </tr>\n",
              "    <tr>\n",
              "      <th>4</th>\n",
              "      <td>159135</td>\n",
              "      <td>2015-05-21 06:03:03</td>\n",
              "      <td>2015-07-09 08:05:14</td>\n",
              "      <td>42</td>\n",
              "      <td>ALEYXFXINSXLZ</td>\n",
              "      <td>Ads</td>\n",
              "      <td>Chrome</td>\n",
              "      <td>M</td>\n",
              "      <td>18</td>\n",
              "      <td>2.809315e+09</td>\n",
              "      <td>0</td>\n",
              "    </tr>\n",
              "  </tbody>\n",
              "</table>\n",
              "</div>"
            ],
            "text/plain": [
              "   user_id          signup_time        purchase_time  ...  age    ip_address class\n",
              "0    22058  2015-02-24 22:55:49  2015-04-18 02:47:11  ...   39  7.327584e+08     0\n",
              "1   333320  2015-06-07 20:39:50  2015-06-08 01:38:54  ...   53  3.503114e+08     0\n",
              "2   150084  2015-04-28 21:13:25  2015-05-04 13:54:50  ...   41  3.840542e+09     0\n",
              "3   221365  2015-07-21 07:09:52  2015-09-09 18:40:53  ...   45  4.155831e+08     0\n",
              "4   159135  2015-05-21 06:03:03  2015-07-09 08:05:14  ...   18  2.809315e+09     0\n",
              "\n",
              "[5 rows x 11 columns]"
            ]
          },
          "metadata": {
            "tags": []
          },
          "execution_count": 6
        }
      ]
    },
    {
      "cell_type": "code",
      "metadata": {
        "id": "OtyLqqyuFB68",
        "outputId": "380eb92d-6f5d-45de-d7c4-f20f7f15dd3a",
        "colab": {
          "base_uri": "https://localhost:8080/",
          "height": 204
        }
      },
      "source": [
        "ipToCountry.head()"
      ],
      "execution_count": 7,
      "outputs": [
        {
          "output_type": "execute_result",
          "data": {
            "text/html": [
              "<div>\n",
              "<style scoped>\n",
              "    .dataframe tbody tr th:only-of-type {\n",
              "        vertical-align: middle;\n",
              "    }\n",
              "\n",
              "    .dataframe tbody tr th {\n",
              "        vertical-align: top;\n",
              "    }\n",
              "\n",
              "    .dataframe thead th {\n",
              "        text-align: right;\n",
              "    }\n",
              "</style>\n",
              "<table border=\"1\" class=\"dataframe\">\n",
              "  <thead>\n",
              "    <tr style=\"text-align: right;\">\n",
              "      <th></th>\n",
              "      <th>lower_bound_ip_address</th>\n",
              "      <th>upper_bound_ip_address</th>\n",
              "      <th>country</th>\n",
              "    </tr>\n",
              "  </thead>\n",
              "  <tbody>\n",
              "    <tr>\n",
              "      <th>0</th>\n",
              "      <td>16777216.0</td>\n",
              "      <td>16777471</td>\n",
              "      <td>Australia</td>\n",
              "    </tr>\n",
              "    <tr>\n",
              "      <th>1</th>\n",
              "      <td>16777472.0</td>\n",
              "      <td>16777727</td>\n",
              "      <td>China</td>\n",
              "    </tr>\n",
              "    <tr>\n",
              "      <th>2</th>\n",
              "      <td>16777728.0</td>\n",
              "      <td>16778239</td>\n",
              "      <td>China</td>\n",
              "    </tr>\n",
              "    <tr>\n",
              "      <th>3</th>\n",
              "      <td>16778240.0</td>\n",
              "      <td>16779263</td>\n",
              "      <td>Australia</td>\n",
              "    </tr>\n",
              "    <tr>\n",
              "      <th>4</th>\n",
              "      <td>16779264.0</td>\n",
              "      <td>16781311</td>\n",
              "      <td>China</td>\n",
              "    </tr>\n",
              "  </tbody>\n",
              "</table>\n",
              "</div>"
            ],
            "text/plain": [
              "   lower_bound_ip_address  upper_bound_ip_address    country\n",
              "0              16777216.0                16777471  Australia\n",
              "1              16777472.0                16777727      China\n",
              "2              16777728.0                16778239      China\n",
              "3              16778240.0                16779263  Australia\n",
              "4              16779264.0                16781311      China"
            ]
          },
          "metadata": {
            "tags": []
          },
          "execution_count": 7
        }
      ]
    },
    {
      "cell_type": "markdown",
      "metadata": {
        "id": "igZJnmA5EjqK"
      },
      "source": [
        " # 2. Map IP Address to Country\n",
        "\n",
        " Task 1: Identify country info based on ip_address"
      ]
    },
    {
      "cell_type": "code",
      "metadata": {
        "id": "ed7jCITDFQHU",
        "outputId": "c35692ff-f158-4edd-8610-d1a4e626798c",
        "colab": {
          "base_uri": "https://localhost:8080/",
          "height": 34
        }
      },
      "source": [
        "ip_address = fraud_data.loc[0,'ip_address']\n",
        "ip_address"
      ],
      "execution_count": 8,
      "outputs": [
        {
          "output_type": "execute_result",
          "data": {
            "text/plain": [
              "732758368.79972"
            ]
          },
          "metadata": {
            "tags": []
          },
          "execution_count": 8
        }
      ]
    },
    {
      "cell_type": "code",
      "metadata": {
        "id": "ofTp6PBQGm-a",
        "outputId": "c0c688b7-a695-4c73-dade-1c87803532fe",
        "colab": {
          "base_uri": "https://localhost:8080/",
          "height": 80
        }
      },
      "source": [
        "ipToCountry[(ipToCountry['lower_bound_ip_address'] <= ip_address) & (ipToCountry['upper_bound_ip_address'] >= ip_address)]"
      ],
      "execution_count": 9,
      "outputs": [
        {
          "output_type": "execute_result",
          "data": {
            "text/html": [
              "<div>\n",
              "<style scoped>\n",
              "    .dataframe tbody tr th:only-of-type {\n",
              "        vertical-align: middle;\n",
              "    }\n",
              "\n",
              "    .dataframe tbody tr th {\n",
              "        vertical-align: top;\n",
              "    }\n",
              "\n",
              "    .dataframe thead th {\n",
              "        text-align: right;\n",
              "    }\n",
              "</style>\n",
              "<table border=\"1\" class=\"dataframe\">\n",
              "  <thead>\n",
              "    <tr style=\"text-align: right;\">\n",
              "      <th></th>\n",
              "      <th>lower_bound_ip_address</th>\n",
              "      <th>upper_bound_ip_address</th>\n",
              "      <th>country</th>\n",
              "    </tr>\n",
              "  </thead>\n",
              "  <tbody>\n",
              "    <tr>\n",
              "      <th>4554</th>\n",
              "      <td>729808896.0</td>\n",
              "      <td>734003199</td>\n",
              "      <td>Japan</td>\n",
              "    </tr>\n",
              "  </tbody>\n",
              "</table>\n",
              "</div>"
            ],
            "text/plain": [
              "      lower_bound_ip_address  upper_bound_ip_address country\n",
              "4554             729808896.0               734003199   Japan"
            ]
          },
          "metadata": {
            "tags": []
          },
          "execution_count": 9
        }
      ]
    },
    {
      "cell_type": "code",
      "metadata": {
        "id": "2MwyQdTKFgXm",
        "outputId": "19db6015-3433-436c-e5e0-d93221bd1888",
        "colab": {
          "base_uri": "https://localhost:8080/",
          "height": 34
        }
      },
      "source": [
        "start = time.time()\n",
        "\n",
        "countries = []\n",
        "for i in range(len(fraud_data)):\n",
        "    ip_address = fraud_data.loc[i, 'ip_address']#number\n",
        "    #below [] is list of T/F, tmp is a df of shape n * 3, where n is 1 if found a match or 0 if no match\n",
        "    tmp = ipToCountry[(ipToCountry['lower_bound_ip_address'] <= ip_address) &\n",
        "                    (ipToCountry['upper_bound_ip_address'] >= ip_address)]\n",
        "    if len(tmp) == 1:#found match\n",
        "        countries.append(tmp['country'].values[0])\n",
        "    else:#no match\n",
        "        countries.append('NA')\n",
        "        \n",
        "fraud_data['country'] = countries\n",
        "runtime = time.time() - start \n",
        "\n",
        "print(\"Lookup took\", runtime, \"seconds.\")\n"
      ],
      "execution_count": 10,
      "outputs": [
        {
          "output_type": "stream",
          "text": [
            "Lookup took 231.18155694007874 seconds.\n"
          ],
          "name": "stdout"
        }
      ]
    },
    {
      "cell_type": "code",
      "metadata": {
        "id": "jFPTOBa3kK2E",
        "outputId": "e2812773-6ab1-4c6e-a917-6684b3cfda42",
        "colab": {
          "base_uri": "https://localhost:8080/",
          "height": 309
        }
      },
      "source": [
        "fraud_data.head()"
      ],
      "execution_count": 11,
      "outputs": [
        {
          "output_type": "execute_result",
          "data": {
            "text/html": [
              "<div>\n",
              "<style scoped>\n",
              "    .dataframe tbody tr th:only-of-type {\n",
              "        vertical-align: middle;\n",
              "    }\n",
              "\n",
              "    .dataframe tbody tr th {\n",
              "        vertical-align: top;\n",
              "    }\n",
              "\n",
              "    .dataframe thead th {\n",
              "        text-align: right;\n",
              "    }\n",
              "</style>\n",
              "<table border=\"1\" class=\"dataframe\">\n",
              "  <thead>\n",
              "    <tr style=\"text-align: right;\">\n",
              "      <th></th>\n",
              "      <th>user_id</th>\n",
              "      <th>signup_time</th>\n",
              "      <th>purchase_time</th>\n",
              "      <th>purchase_value</th>\n",
              "      <th>device_id</th>\n",
              "      <th>source</th>\n",
              "      <th>browser</th>\n",
              "      <th>sex</th>\n",
              "      <th>age</th>\n",
              "      <th>ip_address</th>\n",
              "      <th>class</th>\n",
              "      <th>country</th>\n",
              "    </tr>\n",
              "  </thead>\n",
              "  <tbody>\n",
              "    <tr>\n",
              "      <th>0</th>\n",
              "      <td>22058</td>\n",
              "      <td>2015-02-24 22:55:49</td>\n",
              "      <td>2015-04-18 02:47:11</td>\n",
              "      <td>34</td>\n",
              "      <td>QVPSPJUOCKZAR</td>\n",
              "      <td>SEO</td>\n",
              "      <td>Chrome</td>\n",
              "      <td>M</td>\n",
              "      <td>39</td>\n",
              "      <td>7.327584e+08</td>\n",
              "      <td>0</td>\n",
              "      <td>Japan</td>\n",
              "    </tr>\n",
              "    <tr>\n",
              "      <th>1</th>\n",
              "      <td>333320</td>\n",
              "      <td>2015-06-07 20:39:50</td>\n",
              "      <td>2015-06-08 01:38:54</td>\n",
              "      <td>16</td>\n",
              "      <td>EOGFQPIZPYXFZ</td>\n",
              "      <td>Ads</td>\n",
              "      <td>Chrome</td>\n",
              "      <td>F</td>\n",
              "      <td>53</td>\n",
              "      <td>3.503114e+08</td>\n",
              "      <td>0</td>\n",
              "      <td>United States</td>\n",
              "    </tr>\n",
              "    <tr>\n",
              "      <th>2</th>\n",
              "      <td>150084</td>\n",
              "      <td>2015-04-28 21:13:25</td>\n",
              "      <td>2015-05-04 13:54:50</td>\n",
              "      <td>44</td>\n",
              "      <td>ATGTXKYKUDUQN</td>\n",
              "      <td>SEO</td>\n",
              "      <td>Safari</td>\n",
              "      <td>M</td>\n",
              "      <td>41</td>\n",
              "      <td>3.840542e+09</td>\n",
              "      <td>0</td>\n",
              "      <td>NA</td>\n",
              "    </tr>\n",
              "    <tr>\n",
              "      <th>3</th>\n",
              "      <td>221365</td>\n",
              "      <td>2015-07-21 07:09:52</td>\n",
              "      <td>2015-09-09 18:40:53</td>\n",
              "      <td>39</td>\n",
              "      <td>NAUITBZFJKHWW</td>\n",
              "      <td>Ads</td>\n",
              "      <td>Safari</td>\n",
              "      <td>M</td>\n",
              "      <td>45</td>\n",
              "      <td>4.155831e+08</td>\n",
              "      <td>0</td>\n",
              "      <td>United States</td>\n",
              "    </tr>\n",
              "    <tr>\n",
              "      <th>4</th>\n",
              "      <td>159135</td>\n",
              "      <td>2015-05-21 06:03:03</td>\n",
              "      <td>2015-07-09 08:05:14</td>\n",
              "      <td>42</td>\n",
              "      <td>ALEYXFXINSXLZ</td>\n",
              "      <td>Ads</td>\n",
              "      <td>Chrome</td>\n",
              "      <td>M</td>\n",
              "      <td>18</td>\n",
              "      <td>2.809315e+09</td>\n",
              "      <td>0</td>\n",
              "      <td>Canada</td>\n",
              "    </tr>\n",
              "  </tbody>\n",
              "</table>\n",
              "</div>"
            ],
            "text/plain": [
              "   user_id          signup_time  ... class        country\n",
              "0    22058  2015-02-24 22:55:49  ...     0          Japan\n",
              "1   333320  2015-06-07 20:39:50  ...     0  United States\n",
              "2   150084  2015-04-28 21:13:25  ...     0             NA\n",
              "3   221365  2015-07-21 07:09:52  ...     0  United States\n",
              "4   159135  2015-05-21 06:03:03  ...     0         Canada\n",
              "\n",
              "[5 rows x 12 columns]"
            ]
          },
          "metadata": {
            "tags": []
          },
          "execution_count": 11
        }
      ]
    },
    {
      "cell_type": "markdown",
      "metadata": {
        "id": "OSGlr2fyih1z"
      },
      "source": [
        "# 3. Data Exploration"
      ]
    },
    {
      "cell_type": "code",
      "metadata": {
        "id": "quhyL2WSgrX7",
        "outputId": "3ef5a3b1-01ed-40b5-cef8-06217de3d1fb",
        "colab": {
          "base_uri": "https://localhost:8080/",
          "height": 68
        }
      },
      "source": [
        "#Distribution of the label column\n",
        "fraud_data['class'].value_counts()\n"
      ],
      "execution_count": 12,
      "outputs": [
        {
          "output_type": "execute_result",
          "data": {
            "text/plain": [
              "0    136961\n",
              "1      1415\n",
              "Name: class, dtype: int64"
            ]
          },
          "metadata": {
            "tags": []
          },
          "execution_count": 12
        }
      ]
    },
    {
      "cell_type": "code",
      "metadata": {
        "id": "GDcl5UV9jSKY",
        "outputId": "77d445ed-4225-4438-815c-603bac3a12d9",
        "colab": {
          "base_uri": "https://localhost:8080/",
          "height": 34
        }
      },
      "source": [
        "print(fraud_data['class'].sum()/len(fraud_data['class'])) # 0.1 percent"
      ],
      "execution_count": 13,
      "outputs": [
        {
          "output_type": "stream",
          "text": [
            "0.010225761692779094\n"
          ],
          "name": "stdout"
        }
      ]
    },
    {
      "cell_type": "code",
      "metadata": {
        "id": "R8at0wf7Z661",
        "outputId": "2f37294e-bb25-4320-fa9c-62520e8d7148",
        "colab": {
          "base_uri": "https://localhost:8080/",
          "height": 309
        }
      },
      "source": [
        "fraud_data.head()"
      ],
      "execution_count": 14,
      "outputs": [
        {
          "output_type": "execute_result",
          "data": {
            "text/html": [
              "<div>\n",
              "<style scoped>\n",
              "    .dataframe tbody tr th:only-of-type {\n",
              "        vertical-align: middle;\n",
              "    }\n",
              "\n",
              "    .dataframe tbody tr th {\n",
              "        vertical-align: top;\n",
              "    }\n",
              "\n",
              "    .dataframe thead th {\n",
              "        text-align: right;\n",
              "    }\n",
              "</style>\n",
              "<table border=\"1\" class=\"dataframe\">\n",
              "  <thead>\n",
              "    <tr style=\"text-align: right;\">\n",
              "      <th></th>\n",
              "      <th>user_id</th>\n",
              "      <th>signup_time</th>\n",
              "      <th>purchase_time</th>\n",
              "      <th>purchase_value</th>\n",
              "      <th>device_id</th>\n",
              "      <th>source</th>\n",
              "      <th>browser</th>\n",
              "      <th>sex</th>\n",
              "      <th>age</th>\n",
              "      <th>ip_address</th>\n",
              "      <th>class</th>\n",
              "      <th>country</th>\n",
              "    </tr>\n",
              "  </thead>\n",
              "  <tbody>\n",
              "    <tr>\n",
              "      <th>0</th>\n",
              "      <td>22058</td>\n",
              "      <td>2015-02-24 22:55:49</td>\n",
              "      <td>2015-04-18 02:47:11</td>\n",
              "      <td>34</td>\n",
              "      <td>QVPSPJUOCKZAR</td>\n",
              "      <td>SEO</td>\n",
              "      <td>Chrome</td>\n",
              "      <td>M</td>\n",
              "      <td>39</td>\n",
              "      <td>7.327584e+08</td>\n",
              "      <td>0</td>\n",
              "      <td>Japan</td>\n",
              "    </tr>\n",
              "    <tr>\n",
              "      <th>1</th>\n",
              "      <td>333320</td>\n",
              "      <td>2015-06-07 20:39:50</td>\n",
              "      <td>2015-06-08 01:38:54</td>\n",
              "      <td>16</td>\n",
              "      <td>EOGFQPIZPYXFZ</td>\n",
              "      <td>Ads</td>\n",
              "      <td>Chrome</td>\n",
              "      <td>F</td>\n",
              "      <td>53</td>\n",
              "      <td>3.503114e+08</td>\n",
              "      <td>0</td>\n",
              "      <td>United States</td>\n",
              "    </tr>\n",
              "    <tr>\n",
              "      <th>2</th>\n",
              "      <td>150084</td>\n",
              "      <td>2015-04-28 21:13:25</td>\n",
              "      <td>2015-05-04 13:54:50</td>\n",
              "      <td>44</td>\n",
              "      <td>ATGTXKYKUDUQN</td>\n",
              "      <td>SEO</td>\n",
              "      <td>Safari</td>\n",
              "      <td>M</td>\n",
              "      <td>41</td>\n",
              "      <td>3.840542e+09</td>\n",
              "      <td>0</td>\n",
              "      <td>NA</td>\n",
              "    </tr>\n",
              "    <tr>\n",
              "      <th>3</th>\n",
              "      <td>221365</td>\n",
              "      <td>2015-07-21 07:09:52</td>\n",
              "      <td>2015-09-09 18:40:53</td>\n",
              "      <td>39</td>\n",
              "      <td>NAUITBZFJKHWW</td>\n",
              "      <td>Ads</td>\n",
              "      <td>Safari</td>\n",
              "      <td>M</td>\n",
              "      <td>45</td>\n",
              "      <td>4.155831e+08</td>\n",
              "      <td>0</td>\n",
              "      <td>United States</td>\n",
              "    </tr>\n",
              "    <tr>\n",
              "      <th>4</th>\n",
              "      <td>159135</td>\n",
              "      <td>2015-05-21 06:03:03</td>\n",
              "      <td>2015-07-09 08:05:14</td>\n",
              "      <td>42</td>\n",
              "      <td>ALEYXFXINSXLZ</td>\n",
              "      <td>Ads</td>\n",
              "      <td>Chrome</td>\n",
              "      <td>M</td>\n",
              "      <td>18</td>\n",
              "      <td>2.809315e+09</td>\n",
              "      <td>0</td>\n",
              "      <td>Canada</td>\n",
              "    </tr>\n",
              "  </tbody>\n",
              "</table>\n",
              "</div>"
            ],
            "text/plain": [
              "   user_id          signup_time  ... class        country\n",
              "0    22058  2015-02-24 22:55:49  ...     0          Japan\n",
              "1   333320  2015-06-07 20:39:50  ...     0  United States\n",
              "2   150084  2015-04-28 21:13:25  ...     0             NA\n",
              "3   221365  2015-07-21 07:09:52  ...     0  United States\n",
              "4   159135  2015-05-21 06:03:03  ...     0         Canada\n",
              "\n",
              "[5 rows x 12 columns]"
            ]
          },
          "metadata": {
            "tags": []
          },
          "execution_count": 14
        }
      ]
    },
    {
      "cell_type": "code",
      "metadata": {
        "id": "_KGwILife8bz",
        "outputId": "47ee9b40-1847-4e27-9b9f-54fb3aa156c9",
        "colab": {
          "base_uri": "https://localhost:8080/",
          "height": 224
        }
      },
      "source": [
        "# ! pip install pandas-profiling\n",
        "\n",
        "# import pandas_profiling\n",
        "\n",
        "# #Inline summary report without saving report as object\n",
        "# pandas_profiling.ProfileReport(fraud_data)\n",
        "\n",
        "#simpler version without installing pandas_profiling\n",
        "fraud_data.describe().transpose()\n",
        "\n",
        "# will give warnings on missing, correlation, constant value(0 variance), etc, see http://nbviewer.jupyter.org/github/JosPolfliet/pandas-profiling/blob/master/examples/meteorites.ipynb\n"
      ],
      "execution_count": 16,
      "outputs": [
        {
          "output_type": "execute_result",
          "data": {
            "text/html": [
              "<div>\n",
              "<style scoped>\n",
              "    .dataframe tbody tr th:only-of-type {\n",
              "        vertical-align: middle;\n",
              "    }\n",
              "\n",
              "    .dataframe tbody tr th {\n",
              "        vertical-align: top;\n",
              "    }\n",
              "\n",
              "    .dataframe thead th {\n",
              "        text-align: right;\n",
              "    }\n",
              "</style>\n",
              "<table border=\"1\" class=\"dataframe\">\n",
              "  <thead>\n",
              "    <tr style=\"text-align: right;\">\n",
              "      <th></th>\n",
              "      <th>count</th>\n",
              "      <th>mean</th>\n",
              "      <th>std</th>\n",
              "      <th>min</th>\n",
              "      <th>25%</th>\n",
              "      <th>50%</th>\n",
              "      <th>75%</th>\n",
              "      <th>max</th>\n",
              "    </tr>\n",
              "  </thead>\n",
              "  <tbody>\n",
              "    <tr>\n",
              "      <th>user_id</th>\n",
              "      <td>138376.0</td>\n",
              "      <td>2.001490e+05</td>\n",
              "      <td>1.152268e+05</td>\n",
              "      <td>2.000000</td>\n",
              "      <td>1.008948e+05</td>\n",
              "      <td>2.000005e+05</td>\n",
              "      <td>2.997452e+05</td>\n",
              "      <td>4.000000e+05</td>\n",
              "    </tr>\n",
              "    <tr>\n",
              "      <th>purchase_value</th>\n",
              "      <td>138376.0</td>\n",
              "      <td>3.693899e+01</td>\n",
              "      <td>1.832109e+01</td>\n",
              "      <td>9.000000</td>\n",
              "      <td>2.200000e+01</td>\n",
              "      <td>3.500000e+01</td>\n",
              "      <td>4.900000e+01</td>\n",
              "      <td>1.540000e+02</td>\n",
              "    </tr>\n",
              "    <tr>\n",
              "      <th>age</th>\n",
              "      <td>138376.0</td>\n",
              "      <td>3.312587e+01</td>\n",
              "      <td>8.623645e+00</td>\n",
              "      <td>18.000000</td>\n",
              "      <td>2.700000e+01</td>\n",
              "      <td>3.300000e+01</td>\n",
              "      <td>3.900000e+01</td>\n",
              "      <td>7.600000e+01</td>\n",
              "    </tr>\n",
              "    <tr>\n",
              "      <th>ip_address</th>\n",
              "      <td>138376.0</td>\n",
              "      <td>2.154381e+09</td>\n",
              "      <td>1.250563e+09</td>\n",
              "      <td>52093.496895</td>\n",
              "      <td>1.085079e+09</td>\n",
              "      <td>2.156471e+09</td>\n",
              "      <td>3.249150e+09</td>\n",
              "      <td>4.294850e+09</td>\n",
              "    </tr>\n",
              "    <tr>\n",
              "      <th>class</th>\n",
              "      <td>138376.0</td>\n",
              "      <td>1.022576e-02</td>\n",
              "      <td>1.006045e-01</td>\n",
              "      <td>0.000000</td>\n",
              "      <td>0.000000e+00</td>\n",
              "      <td>0.000000e+00</td>\n",
              "      <td>0.000000e+00</td>\n",
              "      <td>1.000000e+00</td>\n",
              "    </tr>\n",
              "  </tbody>\n",
              "</table>\n",
              "</div>"
            ],
            "text/plain": [
              "                   count          mean  ...           75%           max\n",
              "user_id         138376.0  2.001490e+05  ...  2.997452e+05  4.000000e+05\n",
              "purchase_value  138376.0  3.693899e+01  ...  4.900000e+01  1.540000e+02\n",
              "age             138376.0  3.312587e+01  ...  3.900000e+01  7.600000e+01\n",
              "ip_address      138376.0  2.154381e+09  ...  3.249150e+09  4.294850e+09\n",
              "class           138376.0  1.022576e-02  ...  0.000000e+00  1.000000e+00\n",
              "\n",
              "[5 rows x 8 columns]"
            ]
          },
          "metadata": {
            "tags": []
          },
          "execution_count": 16
        }
      ]
    },
    {
      "cell_type": "markdown",
      "metadata": {
        "id": "Cf7HYj9piiq8"
      },
      "source": [
        "### 3.1 Missing values & Outlier"
      ]
    },
    {
      "cell_type": "code",
      "metadata": {
        "id": "KwG6iF08ikTk",
        "outputId": "2b002d85-7462-4d3d-970d-5f3e5855d521",
        "colab": {
          "base_uri": "https://localhost:8080/",
          "height": 238
        }
      },
      "source": [
        "# count of NaN in each column\n",
        "fraud_data.isna().sum()\n",
        "#fraud_data.isnull().sum(axis = 0)\n"
      ],
      "execution_count": 17,
      "outputs": [
        {
          "output_type": "execute_result",
          "data": {
            "text/plain": [
              "user_id           0\n",
              "signup_time       0\n",
              "purchase_time     0\n",
              "purchase_value    0\n",
              "device_id         0\n",
              "source            0\n",
              "browser           0\n",
              "sex               0\n",
              "age               0\n",
              "ip_address        0\n",
              "class             0\n",
              "country           0\n",
              "dtype: int64"
            ]
          },
          "metadata": {
            "tags": []
          },
          "execution_count": 17
        }
      ]
    },
    {
      "cell_type": "code",
      "metadata": {
        "id": "xFYrBwPVCaFu",
        "outputId": "c663e3c0-4310-46ce-924a-01ee7c92a256",
        "colab": {
          "base_uri": "https://localhost:8080/",
          "height": 331
        }
      },
      "source": [
        "# eda\n",
        "var = fraud_data.groupby('source').purchase_value.sum()\n",
        "fig = plt.figure()\n",
        "ax1 = fig.add_subplot(1,1,1)\n",
        "var.plot(kind='bar')\n",
        "ax1.set_title(\"Total amount per by source of traffic\")\n",
        "ax1.set_xlabel('Source of Traffic')\n",
        "ax1.set_ylabel('Amount')"
      ],
      "execution_count": 23,
      "outputs": [
        {
          "output_type": "execute_result",
          "data": {
            "text/plain": [
              "Text(0, 0.5, 'Amount')"
            ]
          },
          "metadata": {
            "tags": []
          },
          "execution_count": 23
        },
        {
          "output_type": "display_data",
          "data": {
            "image/png": "[encoded data removed]",
            "text/plain": [
              "<Figure size 432x288 with 1 Axes>"
            ]
          },
          "metadata": {
            "tags": [],
            "needs_background": "light"
          }
        }
      ]
    },
    {
      "cell_type": "code",
      "metadata": {
        "id": "c4ysDhe_OdAx",
        "outputId": "b5602451-885d-4b34-a9c8-ff2bc0ec2efe",
        "colab": {
          "base_uri": "https://localhost:8080/",
          "height": 85
        }
      },
      "source": [
        "print(fraud_data.source.value_counts())"
      ],
      "execution_count": 45,
      "outputs": [
        {
          "output_type": "stream",
          "text": [
            "SEO       55766\n",
            "Ads       54913\n",
            "Direct    27697\n",
            "Name: source, dtype: int64\n"
          ],
          "name": "stdout"
        }
      ]
    },
    {
      "cell_type": "code",
      "metadata": {
        "id": "NwNg8OIlceY-",
        "outputId": "404ea9ab-b35b-42d2-c977-b631b47a8de3",
        "colab": {
          "base_uri": "https://localhost:8080/",
          "height": 524
        }
      },
      "source": [
        "# boxplot for numerical feature: purchase_value, age\n",
        "_,axss = plt.subplots(1,2, figsize=[20,10])\n",
        "sns.boxplot(x='class', y ='purchase_value', data=fraud_data, ax=axss[0])\n",
        "sns.boxplot(x='class', y ='age', data=fraud_data, ax=axss[1])\n"
      ],
      "execution_count": 25,
      "outputs": [
        {
          "output_type": "execute_result",
          "data": {
            "text/plain": [
              "<matplotlib.axes._subplots.AxesSubplot at 0x7fd7f8cd2ef0>"
            ]
          },
          "metadata": {
            "tags": []
          },
          "execution_count": 25
        },
        {
          "output_type": "display_data",
          "data": {
            "image/png": "[encoded data removed]",
            "text/plain": [
              "<Figure size 1440x720 with 2 Axes>"
            ]
          },
          "metadata": {
            "tags": [],
            "needs_background": "light"
          }
        }
      ]
    },
    {
      "cell_type": "markdown",
      "metadata": {
        "id": "LV6qvNTedJ5W"
      },
      "source": [
        "purchase value and age do not have big difference between fraud/nonfraud activities"
      ]
    },
    {
      "cell_type": "markdown",
      "metadata": {
        "id": "7naxDmI4jpgp"
      },
      "source": [
        "### 3.2 Feature Engineering"
      ]
    },
    {
      "cell_type": "code",
      "metadata": {
        "id": "E5a3x5Qlj1eb",
        "outputId": "424afbff-d302-417a-e189-4a8a0a06c4db",
        "colab": {
          "base_uri": "https://localhost:8080/",
          "height": 51
        }
      },
      "source": [
        "# check if column user_id is unique(no dup) for time related aggregates\n",
        "print(fraud_data.user_id.nunique())\n",
        "print(len(fraud_data.index))\n"
      ],
      "execution_count": 26,
      "outputs": [
        {
          "output_type": "stream",
          "text": [
            "138376\n",
            "138376\n"
          ],
          "name": "stdout"
        }
      ]
    },
    {
      "cell_type": "markdown",
      "metadata": {
        "id": "nLS-CwIkAZEV"
      },
      "source": [
        "All of the user_id has only the first 1 transaction, no way to do time based aggregates, e.g. amount or counts in past 1 day for this user"
      ]
    },
    {
      "cell_type": "code",
      "metadata": {
        "id": "BAq-QL6QAq5a",
        "outputId": "4dee6452-8664-40ef-eb1c-e613bfdba4ef",
        "colab": {
          "base_uri": "https://localhost:8080/",
          "height": 51
        }
      },
      "source": [
        "print(fraud_data.signup_time.min())\n",
        "print(fraud_data.signup_time.max())"
      ],
      "execution_count": 27,
      "outputs": [
        {
          "output_type": "stream",
          "text": [
            "2015-01-01 00:00:42\n",
            "2015-08-18 04:40:29\n"
          ],
          "name": "stdout"
        }
      ]
    },
    {
      "cell_type": "code",
      "metadata": {
        "id": "VaxsvD9WA4dn",
        "outputId": "c36e460d-4f80-4784-e7be-dd21ca7a0ecc",
        "colab": {
          "base_uri": "https://localhost:8080/",
          "height": 51
        }
      },
      "source": [
        "print(fraud_data.purchase_time.min())\n",
        "print(fraud_data.purchase_time.max())"
      ],
      "execution_count": 28,
      "outputs": [
        {
          "output_type": "stream",
          "text": [
            "2015-01-01 00:00:47\n",
            "2015-12-16 02:56:05\n"
          ],
          "name": "stdout"
        }
      ]
    },
    {
      "cell_type": "code",
      "metadata": {
        "id": "XfqVxIEkmeAO"
      },
      "source": [
        "#time related features\n",
        "fraud_data['interval_after_signup'] = (pd.to_datetime(fraud_data['purchase_time']) - pd.to_datetime(\n",
        "        fraud_data['signup_time'])).dt.total_seconds()"
      ],
      "execution_count": 29,
      "outputs": []
    },
    {
      "cell_type": "code",
      "metadata": {
        "id": "MRZyDNaCBXx0",
        "outputId": "583f0bd9-4e38-4efd-f081-5b9751570c2b",
        "colab": {
          "base_uri": "https://localhost:8080/",
          "height": 311
        }
      },
      "source": [
        "sns.boxplot(x='class', y ='interval_after_signup', data=fraud_data)\n"
      ],
      "execution_count": 30,
      "outputs": [
        {
          "output_type": "execute_result",
          "data": {
            "text/plain": [
              "<matplotlib.axes._subplots.AxesSubplot at 0x7fd7f8c2d0b8>"
            ]
          },
          "metadata": {
            "tags": []
          },
          "execution_count": 30
        },
        {
          "output_type": "display_data",
          "data": {
            "image/png": "[encoded data removed]",
            "text/plain": [
              "<Figure size 432x288 with 1 Axes>"
            ]
          },
          "metadata": {
            "tags": [],
            "needs_background": "light"
          }
        }
      ]
    },
    {
      "cell_type": "code",
      "metadata": {
        "id": "sU7MaxjgBhyF",
        "outputId": "fde0355f-e688-429b-87a0-30e2ad183744",
        "colab": {
          "base_uri": "https://localhost:8080/",
          "height": 142
        }
      },
      "source": [
        "fraud_data.groupby('class')['interval_after_signup'].describe()"
      ],
      "execution_count": 31,
      "outputs": [
        {
          "output_type": "execute_result",
          "data": {
            "text/html": [
              "<div>\n",
              "<style scoped>\n",
              "    .dataframe tbody tr th:only-of-type {\n",
              "        vertical-align: middle;\n",
              "    }\n",
              "\n",
              "    .dataframe tbody tr th {\n",
              "        vertical-align: top;\n",
              "    }\n",
              "\n",
              "    .dataframe thead th {\n",
              "        text-align: right;\n",
              "    }\n",
              "</style>\n",
              "<table border=\"1\" class=\"dataframe\">\n",
              "  <thead>\n",
              "    <tr style=\"text-align: right;\">\n",
              "      <th></th>\n",
              "      <th>count</th>\n",
              "      <th>mean</th>\n",
              "      <th>std</th>\n",
              "      <th>min</th>\n",
              "      <th>25%</th>\n",
              "      <th>50%</th>\n",
              "      <th>75%</th>\n",
              "      <th>max</th>\n",
              "    </tr>\n",
              "    <tr>\n",
              "      <th>class</th>\n",
              "      <th></th>\n",
              "      <th></th>\n",
              "      <th></th>\n",
              "      <th></th>\n",
              "      <th></th>\n",
              "      <th></th>\n",
              "      <th></th>\n",
              "      <th></th>\n",
              "    </tr>\n",
              "  </thead>\n",
              "  <tbody>\n",
              "    <tr>\n",
              "      <th>0</th>\n",
              "      <td>136961.0</td>\n",
              "      <td>5.191179e+06</td>\n",
              "      <td>2.988589e+06</td>\n",
              "      <td>137.0</td>\n",
              "      <td>2588829.0</td>\n",
              "      <td>5194911.0</td>\n",
              "      <td>7781319.0</td>\n",
              "      <td>10367972.0</td>\n",
              "    </tr>\n",
              "    <tr>\n",
              "      <th>1</th>\n",
              "      <td>1415.0</td>\n",
              "      <td>2.570226e+06</td>\n",
              "      <td>3.398386e+06</td>\n",
              "      <td>1.0</td>\n",
              "      <td>1.0</td>\n",
              "      <td>1.0</td>\n",
              "      <td>5121468.5</td>\n",
              "      <td>10354001.0</td>\n",
              "    </tr>\n",
              "  </tbody>\n",
              "</table>\n",
              "</div>"
            ],
            "text/plain": [
              "          count          mean           std  ...        50%        75%         max\n",
              "class                                        ...                                  \n",
              "0      136961.0  5.191179e+06  2.988589e+06  ...  5194911.0  7781319.0  10367972.0\n",
              "1        1415.0  2.570226e+06  3.398386e+06  ...        1.0  5121468.5  10354001.0\n",
              "\n",
              "[2 rows x 8 columns]"
            ]
          },
          "metadata": {
            "tags": []
          },
          "execution_count": 31
        }
      ]
    },
    {
      "cell_type": "markdown",
      "metadata": {
        "id": "RpfjYV9XBo-t"
      },
      "source": [
        "Important finding: fraud activities seems to occur right after account sign up. The median of fraudulent transactions is 1 second after account sign up."
      ]
    },
    {
      "cell_type": "code",
      "metadata": {
        "id": "VMux0K3fD-zp"
      },
      "source": [
        "fraud_data['signup_days_of_year'] = pd.DatetimeIndex(fraud_data['signup_time']).dayofyear\n"
      ],
      "execution_count": 32,
      "outputs": []
    },
    {
      "cell_type": "code",
      "metadata": {
        "id": "wyxCnVyXCjBZ",
        "outputId": "6f57f05c-e622-469a-f4d1-be0481e20319",
        "colab": {
          "base_uri": "https://localhost:8080/",
          "height": 300
        }
      },
      "source": [
        "sns.boxplot(x='class', y ='signup_days_of_year', data=fraud_data)\n"
      ],
      "execution_count": 33,
      "outputs": [
        {
          "output_type": "execute_result",
          "data": {
            "text/plain": [
              "<matplotlib.axes._subplots.AxesSubplot at 0x7fd7f8ba72b0>"
            ]
          },
          "metadata": {
            "tags": []
          },
          "execution_count": 33
        },
        {
          "output_type": "display_data",
          "data": {
            "image/png": "[encoded data removed]",
            "text/plain": [
              "<Figure size 432x288 with 1 Axes>"
            ]
          },
          "metadata": {
            "tags": [],
            "needs_background": "light"
          }
        }
      ]
    },
    {
      "cell_type": "code",
      "metadata": {
        "id": "vOrODy_VCpXe",
        "outputId": "a23da526-6ec1-46aa-9286-2ee6beac3856",
        "colab": {
          "base_uri": "https://localhost:8080/",
          "height": 142
        }
      },
      "source": [
        "fraud_data.groupby('class')['signup_days_of_year'].describe()"
      ],
      "execution_count": 34,
      "outputs": [
        {
          "output_type": "execute_result",
          "data": {
            "text/html": [
              "<div>\n",
              "<style scoped>\n",
              "    .dataframe tbody tr th:only-of-type {\n",
              "        vertical-align: middle;\n",
              "    }\n",
              "\n",
              "    .dataframe tbody tr th {\n",
              "        vertical-align: top;\n",
              "    }\n",
              "\n",
              "    .dataframe thead th {\n",
              "        text-align: right;\n",
              "    }\n",
              "</style>\n",
              "<table border=\"1\" class=\"dataframe\">\n",
              "  <thead>\n",
              "    <tr style=\"text-align: right;\">\n",
              "      <th></th>\n",
              "      <th>count</th>\n",
              "      <th>mean</th>\n",
              "      <th>std</th>\n",
              "      <th>min</th>\n",
              "      <th>25%</th>\n",
              "      <th>50%</th>\n",
              "      <th>75%</th>\n",
              "      <th>max</th>\n",
              "    </tr>\n",
              "    <tr>\n",
              "      <th>class</th>\n",
              "      <th></th>\n",
              "      <th></th>\n",
              "      <th></th>\n",
              "      <th></th>\n",
              "      <th></th>\n",
              "      <th></th>\n",
              "      <th></th>\n",
              "      <th></th>\n",
              "    </tr>\n",
              "  </thead>\n",
              "  <tbody>\n",
              "    <tr>\n",
              "      <th>0</th>\n",
              "      <td>136961.0</td>\n",
              "      <td>115.008367</td>\n",
              "      <td>66.093892</td>\n",
              "      <td>1.0</td>\n",
              "      <td>58.0</td>\n",
              "      <td>115.0</td>\n",
              "      <td>172.0</td>\n",
              "      <td>230.0</td>\n",
              "    </tr>\n",
              "    <tr>\n",
              "      <th>1</th>\n",
              "      <td>1415.0</td>\n",
              "      <td>56.732155</td>\n",
              "      <td>69.598381</td>\n",
              "      <td>1.0</td>\n",
              "      <td>6.0</td>\n",
              "      <td>11.0</td>\n",
              "      <td>104.0</td>\n",
              "      <td>229.0</td>\n",
              "    </tr>\n",
              "  </tbody>\n",
              "</table>\n",
              "</div>"
            ],
            "text/plain": [
              "          count        mean        std  min   25%    50%    75%    max\n",
              "class                                                                 \n",
              "0      136961.0  115.008367  66.093892  1.0  58.0  115.0  172.0  230.0\n",
              "1        1415.0   56.732155  69.598381  1.0   6.0   11.0  104.0  229.0"
            ]
          },
          "metadata": {
            "tags": []
          },
          "execution_count": 34
        }
      ]
    },
    {
      "cell_type": "code",
      "metadata": {
        "id": "OyWEOoNgC3Go",
        "outputId": "aa65f531-1e93-4fda-baa9-b7b604723a94",
        "colab": {
          "base_uri": "https://localhost:8080/",
          "height": 371
        }
      },
      "source": [
        "# density plot by class\n",
        "sns.distplot(fraud_data[fraud_data['class'] == 0]['signup_days_of_year'], hist = True, kde = True, label='class = 0')\n",
        "sns.distplot(fraud_data[fraud_data['class'] == 1]['signup_days_of_year'], hist = True, kde = True, label='class = 1')\n",
        "plt.legend()\n",
        "plt.show()\n"
      ],
      "execution_count": 35,
      "outputs": [
        {
          "output_type": "stream",
          "text": [
            "/usr/local/lib/python3.6/dist-packages/seaborn/distributions.py:2551: FutureWarning: `distplot` is a deprecated function and will be removed in a future version. Please adapt your code to use either `displot` (a figure-level function with similar flexibility) or `histplot` (an axes-level function for histograms).\n",
            "  warnings.warn(msg, FutureWarning)\n",
            "/usr/local/lib/python3.6/dist-packages/seaborn/distributions.py:2551: FutureWarning: `distplot` is a deprecated function and will be removed in a future version. Please adapt your code to use either `displot` (a figure-level function with similar flexibility) or `histplot` (an axes-level function for histograms).\n",
            "  warnings.warn(msg, FutureWarning)\n"
          ],
          "name": "stderr"
        },
        {
          "output_type": "display_data",
          "data": {
            "image/png": "[encoded data removed]",
            "text/plain": [
              "<Figure size 432x288 with 1 Axes>"
            ]
          },
          "metadata": {
            "tags": [],
            "needs_background": "light"
          }
        }
      ]
    },
    {
      "cell_type": "markdown",
      "metadata": {
        "id": "INvLZ0tfEIaG"
      },
      "source": [
        "Finding: Fraudulent activities seem to concentate on the beginning of year."
      ]
    },
    {
      "cell_type": "code",
      "metadata": {
        "id": "f3sjKul5BD4P"
      },
      "source": [
        "#bed time operation\n",
        "fraud_data['signup_seconds_of_day'] = pd.DatetimeIndex(fraud_data['signup_time']).second + 60 * pd.DatetimeIndex(\n",
        "    fraud_data['signup_time']).minute + 3600 * pd.DatetimeIndex(fraud_data['signup_time']).hour\n"
      ],
      "execution_count": 36,
      "outputs": []
    },
    {
      "cell_type": "code",
      "metadata": {
        "id": "AFflNjN3Gs_P",
        "outputId": "bc5a33d8-5318-43c6-a252-b2a887771b29",
        "colab": {
          "base_uri": "https://localhost:8080/",
          "height": 300
        }
      },
      "source": [
        "sns.boxplot(x='class', y ='signup_seconds_of_day', data=fraud_data)\n"
      ],
      "execution_count": 37,
      "outputs": [
        {
          "output_type": "execute_result",
          "data": {
            "text/plain": [
              "<matplotlib.axes._subplots.AxesSubplot at 0x7fd7f8d0b2b0>"
            ]
          },
          "metadata": {
            "tags": []
          },
          "execution_count": 37
        },
        {
          "output_type": "display_data",
          "data": {
            "image/png": "[encoded data removed]",
            "text/plain": [
              "<Figure size 432x288 with 1 Axes>"
            ]
          },
          "metadata": {
            "tags": [],
            "needs_background": "light"
          }
        }
      ]
    },
    {
      "cell_type": "code",
      "metadata": {
        "id": "84FwdSpfHLSi",
        "outputId": "1c61bf3d-88ed-4c3f-84fb-9d58ff24c0f6",
        "colab": {
          "base_uri": "https://localhost:8080/",
          "height": 300
        }
      },
      "source": [
        "# purchase related time features\n",
        "fraud_data['purchase_days_of_year'] = pd.DatetimeIndex(fraud_data['purchase_time']).dayofyear\n",
        "sns.boxplot(x='class', y ='purchase_days_of_year', data=fraud_data)\n"
      ],
      "execution_count": 38,
      "outputs": [
        {
          "output_type": "execute_result",
          "data": {
            "text/plain": [
              "<matplotlib.axes._subplots.AxesSubplot at 0x7fd7f8a75d68>"
            ]
          },
          "metadata": {
            "tags": []
          },
          "execution_count": 38
        },
        {
          "output_type": "display_data",
          "data": {
            "image/png": "[encoded data removed]",
            "text/plain": [
              "<Figure size 432x288 with 1 Axes>"
            ]
          },
          "metadata": {
            "tags": [],
            "needs_background": "light"
          }
        }
      ]
    },
    {
      "cell_type": "markdown",
      "metadata": {
        "id": "5fHY7865OPI8"
      },
      "source": [
        "Similar to sign up day of year, fraudulent activities seem to concentate on the beginning of year."
      ]
    },
    {
      "cell_type": "code",
      "metadata": {
        "id": "K4VmzNJKGq0Z",
        "outputId": "ad7515f2-08cb-4841-cbbb-ce13ceffaab3",
        "colab": {
          "base_uri": "https://localhost:8080/",
          "height": 300
        }
      },
      "source": [
        "# bed time operation\n",
        "fraud_data['purchase_seconds_of_day'] = pd.DatetimeIndex(fraud_data['purchase_time']).second + 60 * pd.DatetimeIndex(\n",
        "    fraud_data['purchase_time']).minute + 3600 * pd.DatetimeIndex(fraud_data['purchase_time']).hour\n",
        "\n",
        "sns.boxplot(x='class', y ='purchase_seconds_of_day', data=fraud_data)"
      ],
      "execution_count": 40,
      "outputs": [
        {
          "output_type": "execute_result",
          "data": {
            "text/plain": [
              "<matplotlib.axes._subplots.AxesSubplot at 0x7fd7f928a4e0>"
            ]
          },
          "metadata": {
            "tags": []
          },
          "execution_count": 40
        },
        {
          "output_type": "display_data",
          "data": {
            "image/png": "[encoded data removed]",
            "text/plain": [
              "<Figure size 432x288 with 1 Axes>"
            ]
          },
          "metadata": {
            "tags": [],
            "needs_background": "light"
          }
        }
      ]
    },
    {
      "cell_type": "markdown",
      "metadata": {
        "id": "lVoqh0sZN7Am"
      },
      "source": [
        "Fraudent activities does not occur at hypothesized bed time. (early A.M. or late P.M) "
      ]
    },
    {
      "cell_type": "code",
      "metadata": {
        "id": "GZYqZenaNptD"
      },
      "source": [
        "# drop some columns\n",
        "fraud_data = fraud_data.drop(['user_id','signup_time','purchase_time'], axis=1)"
      ],
      "execution_count": 42,
      "outputs": []
    },
    {
      "cell_type": "code",
      "metadata": {
        "id": "GxeoVxccnT_9",
        "outputId": "987e403f-658c-41a8-95bc-eefa76566885",
        "colab": {
          "base_uri": "https://localhost:8080/",
          "height": 258
        }
      },
      "source": [
        "fraud_data.head()\n",
        "#note there are NAs in country"
      ],
      "execution_count": 43,
      "outputs": [
        {
          "output_type": "execute_result",
          "data": {
            "text/html": [
              "<div>\n",
              "<style scoped>\n",
              "    .dataframe tbody tr th:only-of-type {\n",
              "        vertical-align: middle;\n",
              "    }\n",
              "\n",
              "    .dataframe tbody tr th {\n",
              "        vertical-align: top;\n",
              "    }\n",
              "\n",
              "    .dataframe thead th {\n",
              "        text-align: right;\n",
              "    }\n",
              "</style>\n",
              "<table border=\"1\" class=\"dataframe\">\n",
              "  <thead>\n",
              "    <tr style=\"text-align: right;\">\n",
              "      <th></th>\n",
              "      <th>purchase_value</th>\n",
              "      <th>device_id</th>\n",
              "      <th>source</th>\n",
              "      <th>browser</th>\n",
              "      <th>sex</th>\n",
              "      <th>age</th>\n",
              "      <th>ip_address</th>\n",
              "      <th>class</th>\n",
              "      <th>country</th>\n",
              "      <th>interval_after_signup</th>\n",
              "      <th>signup_days_of_year</th>\n",
              "      <th>signup_seconds_of_day</th>\n",
              "      <th>purchase_days_of_year</th>\n",
              "      <th>purchase_seconds_of_day</th>\n",
              "    </tr>\n",
              "  </thead>\n",
              "  <tbody>\n",
              "    <tr>\n",
              "      <th>0</th>\n",
              "      <td>34</td>\n",
              "      <td>QVPSPJUOCKZAR</td>\n",
              "      <td>SEO</td>\n",
              "      <td>Chrome</td>\n",
              "      <td>M</td>\n",
              "      <td>39</td>\n",
              "      <td>7.327584e+08</td>\n",
              "      <td>0</td>\n",
              "      <td>Japan</td>\n",
              "      <td>4506682.0</td>\n",
              "      <td>55</td>\n",
              "      <td>82549</td>\n",
              "      <td>108</td>\n",
              "      <td>10031</td>\n",
              "    </tr>\n",
              "    <tr>\n",
              "      <th>1</th>\n",
              "      <td>16</td>\n",
              "      <td>EOGFQPIZPYXFZ</td>\n",
              "      <td>Ads</td>\n",
              "      <td>Chrome</td>\n",
              "      <td>F</td>\n",
              "      <td>53</td>\n",
              "      <td>3.503114e+08</td>\n",
              "      <td>0</td>\n",
              "      <td>United States</td>\n",
              "      <td>17944.0</td>\n",
              "      <td>158</td>\n",
              "      <td>74390</td>\n",
              "      <td>159</td>\n",
              "      <td>5934</td>\n",
              "    </tr>\n",
              "    <tr>\n",
              "      <th>2</th>\n",
              "      <td>44</td>\n",
              "      <td>ATGTXKYKUDUQN</td>\n",
              "      <td>SEO</td>\n",
              "      <td>Safari</td>\n",
              "      <td>M</td>\n",
              "      <td>41</td>\n",
              "      <td>3.840542e+09</td>\n",
              "      <td>0</td>\n",
              "      <td>NA</td>\n",
              "      <td>492085.0</td>\n",
              "      <td>118</td>\n",
              "      <td>76405</td>\n",
              "      <td>124</td>\n",
              "      <td>50090</td>\n",
              "    </tr>\n",
              "    <tr>\n",
              "      <th>3</th>\n",
              "      <td>39</td>\n",
              "      <td>NAUITBZFJKHWW</td>\n",
              "      <td>Ads</td>\n",
              "      <td>Safari</td>\n",
              "      <td>M</td>\n",
              "      <td>45</td>\n",
              "      <td>4.155831e+08</td>\n",
              "      <td>0</td>\n",
              "      <td>United States</td>\n",
              "      <td>4361461.0</td>\n",
              "      <td>202</td>\n",
              "      <td>25792</td>\n",
              "      <td>252</td>\n",
              "      <td>67253</td>\n",
              "    </tr>\n",
              "    <tr>\n",
              "      <th>4</th>\n",
              "      <td>42</td>\n",
              "      <td>ALEYXFXINSXLZ</td>\n",
              "      <td>Ads</td>\n",
              "      <td>Chrome</td>\n",
              "      <td>M</td>\n",
              "      <td>18</td>\n",
              "      <td>2.809315e+09</td>\n",
              "      <td>0</td>\n",
              "      <td>Canada</td>\n",
              "      <td>4240931.0</td>\n",
              "      <td>141</td>\n",
              "      <td>21783</td>\n",
              "      <td>190</td>\n",
              "      <td>29114</td>\n",
              "    </tr>\n",
              "  </tbody>\n",
              "</table>\n",
              "</div>"
            ],
            "text/plain": [
              "   purchase_value  ... purchase_seconds_of_day\n",
              "0              34  ...                   10031\n",
              "1              16  ...                    5934\n",
              "2              44  ...                   50090\n",
              "3              39  ...                   67253\n",
              "4              42  ...                   29114\n",
              "\n",
              "[5 rows x 14 columns]"
            ]
          },
          "metadata": {
            "tags": []
          },
          "execution_count": 43
        }
      ]
    },
    {
      "cell_type": "markdown",
      "metadata": {
        "id": "R8dUOiALnmX0"
      },
      "source": [
        "# 4. Train/Test split"
      ]
    },
    {
      "cell_type": "code",
      "metadata": {
        "id": "-nTN1t_8njt1",
        "outputId": "6c03c577-f15c-4379-ac7f-6c7603d6b045",
        "colab": {
          "base_uri": "https://localhost:8080/",
          "height": 51
        }
      },
      "source": [
        "y = fraud_data['class']\n",
        "X = fraud_data.drop(['class'], axis=1)\n",
        "\n",
        "#split into train/test\n",
        "X_train, X_test, y_train, y_test = train_test_split(X, y, test_size=0.2, stratify=y, random_state=0)\n",
        "print(\"X_train.shape:\", X_train.shape)\n",
        "print(\"y_train.shape:\", y_train.shape)"
      ],
      "execution_count": 66,
      "outputs": [
        {
          "output_type": "stream",
          "text": [
            "X_train.shape: (110700, 13)\n",
            "y_train.shape: (110700,)\n"
          ],
          "name": "stdout"
        }
      ]
    },
    {
      "cell_type": "markdown",
      "metadata": {
        "id": "IGHWxdzZcQQp"
      },
      "source": [
        "# 5. Feature Preprocessing (Categorical Feature Encoding)\n",
        "\n",
        "Convert categorical features with high cadinality to numericals"
      ]
    },
    {
      "cell_type": "code",
      "metadata": {
        "id": "TICjky2Hqc0D",
        "outputId": "36397f57-c0cc-4c2c-d9f7-050f5adccec8",
        "colab": {
          "base_uri": "https://localhost:8080/",
          "height": 221
        }
      },
      "source": [
        "X_train['country'].value_counts(ascending=True)\n",
        "#drawback: collision in the same bucket(no differentiation for these countries)"
      ],
      "execution_count": 67,
      "outputs": [
        {
          "output_type": "execute_result",
          "data": {
            "text/plain": [
              "Gambia                                1\n",
              "Madagascar                            1\n",
              "Cape Verde                            1\n",
              "British Indian Ocean Territory        1\n",
              "Virgin Islands (U.S.)                 1\n",
              "                                  ...  \n",
              "United Kingdom                     3242\n",
              "Japan                              5378\n",
              "China                              8797\n",
              "NA                                16267\n",
              "United States                     42547\n",
              "Name: country, Length: 176, dtype: int64"
            ]
          },
          "metadata": {
            "tags": []
          },
          "execution_count": 67
        }
      ]
    },
    {
      "cell_type": "code",
      "metadata": {
        "id": "4K4uKTzNipTI"
      },
      "source": [
        "# one hote encoding for source and browser\n",
        "X_train = pd.get_dummies(X_train, columns=['source', 'browser']) \n",
        "\n",
        "# convert sex to 0 and 1\n",
        "X_train['sex'] = (X_train.sex == 'M').astype(int)\n"
      ],
      "execution_count": 68,
      "outputs": []
    },
    {
      "cell_type": "code",
      "metadata": {
        "id": "Z8aYaDZRn72y"
      },
      "source": [
        "# frequency encoding for high cardinality categoricial features\n",
        "\n",
        "# the more a device is shared, the more suspicious\n",
        "X_train_device_id_mapping = X_train.device_id.value_counts(dropna=False)\n",
        "X_train['n_dev_shared'] = X_train.device_id.map(X_train_device_id_mapping)# number of times device_id occurred in train data\n",
        "\n",
        "# the more a ip is shared, the more suspicious\n",
        "X_train_ip_address_mapping = X_train.ip_address.value_counts(dropna=False)\n",
        "X_train['n_ip_shared'] = X_train.ip_address.map(X_train_ip_address_mapping)\n",
        "\n",
        "# the less visit from a country, the more suspicious\n",
        "X_train_country_mapping = X_train.country.value_counts(dropna=False)\n",
        "X_train['n_country_shared'] = X_train.country.map(X_train_country_mapping)#lots of NAs in country column, #without dropna=False will produce nan in this col\n",
        "\n",
        "X_train = X_train.drop(['device_id','ip_address','country'], axis=1)\n",
        "\n"
      ],
      "execution_count": 69,
      "outputs": []
    },
    {
      "cell_type": "code",
      "metadata": {
        "id": "PHEn5NB2oBnX"
      },
      "source": [
        "##########################\n",
        "X_test = pd.get_dummies(X_test, columns=['source', 'browser'])\n",
        "X_test['sex'] = (X_test.sex == 'M').astype(int)\n",
        "\n",
        "# the more a device is shared, the more suspicious\n",
        "X_test['n_dev_shared'] = X_test.device_id.map(X_test.device_id.value_counts(dropna=False))\n",
        "\n",
        "# the more a ip is shared, the more suspicious\n",
        "X_test['n_ip_shared'] = X_test.ip_address.map(X_test.ip_address.value_counts(dropna=False))\n",
        "\n",
        "# the less visit from a country, the more suspicious\n",
        "X_test['n_country_shared'] = X_test.country.map(X_test.country.value_counts(dropna=False))\n",
        "\n",
        "X_test = X_test.drop(['device_id','ip_address','country'], axis=1)\n",
        "\n",
        "# if the levels/values of the column in train and test data are pretty much the same(lots of overlap), e.g. country, \n",
        "# then we should apply the above 3 X_train_mappings (generated from X_train) on X_test(like below), \n",
        "# rather than using the new mapping generated from X_test\n",
        "\n",
        "# http://docs.h2o.ai/h2o/latest-stable/h2o-docs/data-munging/target-encoding.html\n",
        "# the more a device is shared, the more suspicious\n",
        "# X_test['n_dev_shared'] = X_test.device_id.map(X_train_device_id_mapping) # if apply train mapping, most of the levels in test does not occur in train, so most are null after converting\n",
        "\n",
        "# the more a ip is shared, the more suspicious\n",
        "# X_test['n_ip_shared'] = X_test.ip_address.map(X_train_ip_address_mapping)\n",
        "\n",
        "# the less visit from a country, the more suspicious\n",
        "# X_test['n_country_shared'] = X_test.country.map(X_train_country_mapping)\n",
        "\n",
        "#but here device_id, ip_address has few overlap between train and test, if we apply the above \n",
        "# 3 X_train_mappings (generated from X_train) on X_test, then most of the X_test will be NaN\n",
        "\n",
        "#target encoding\n"
      ],
      "execution_count": 70,
      "outputs": []
    },
    {
      "cell_type": "markdown",
      "metadata": {
        "id": "rZur8roZqijy"
      },
      "source": [
        "### Normalization\n",
        "\n",
        "needs to be brought to the same scale for models like LR with regularization(that are not tree based)\n",
        "\n",
        "normalize (min-max) to [0,1], standardize(StandardScaler) to normal, mu=0,var = 1 can < 0, so I do normalize here\n",
        "\n"
      ]
    },
    {
      "cell_type": "code",
      "metadata": {
        "id": "48ZPP0YDk4o2",
        "outputId": "67acae31-e8b2-47f6-8757-90f4c580d49f",
        "colab": {
          "base_uri": "https://localhost:8080/",
          "height": 224
        }
      },
      "source": [
        "X_train.head()"
      ],
      "execution_count": 57,
      "outputs": [
        {
          "output_type": "execute_result",
          "data": {
            "text/html": [
              "<div>\n",
              "<style scoped>\n",
              "    .dataframe tbody tr th:only-of-type {\n",
              "        vertical-align: middle;\n",
              "    }\n",
              "\n",
              "    .dataframe tbody tr th {\n",
              "        vertical-align: top;\n",
              "    }\n",
              "\n",
              "    .dataframe thead th {\n",
              "        text-align: right;\n",
              "    }\n",
              "</style>\n",
              "<table border=\"1\" class=\"dataframe\">\n",
              "  <thead>\n",
              "    <tr style=\"text-align: right;\">\n",
              "      <th></th>\n",
              "      <th>purchase_value</th>\n",
              "      <th>sex</th>\n",
              "      <th>age</th>\n",
              "      <th>interval_after_signup</th>\n",
              "      <th>signup_days_of_year</th>\n",
              "      <th>signup_seconds_of_day</th>\n",
              "      <th>purchase_days_of_year</th>\n",
              "      <th>purchase_seconds_of_day</th>\n",
              "      <th>source_Ads</th>\n",
              "      <th>source_Direct</th>\n",
              "      <th>source_SEO</th>\n",
              "      <th>browser_Chrome</th>\n",
              "      <th>browser_FireFox</th>\n",
              "      <th>browser_IE</th>\n",
              "      <th>browser_Opera</th>\n",
              "      <th>browser_Safari</th>\n",
              "      <th>n_dev_shared</th>\n",
              "      <th>n_ip_shared</th>\n",
              "      <th>n_country_shared</th>\n",
              "    </tr>\n",
              "  </thead>\n",
              "  <tbody>\n",
              "    <tr>\n",
              "      <th>8660</th>\n",
              "      <td>10</td>\n",
              "      <td>1</td>\n",
              "      <td>33</td>\n",
              "      <td>598553.0</td>\n",
              "      <td>19</td>\n",
              "      <td>14353</td>\n",
              "      <td>26</td>\n",
              "      <td>8106</td>\n",
              "      <td>0</td>\n",
              "      <td>0</td>\n",
              "      <td>1</td>\n",
              "      <td>1</td>\n",
              "      <td>0</td>\n",
              "      <td>0</td>\n",
              "      <td>0</td>\n",
              "      <td>0</td>\n",
              "      <td>1</td>\n",
              "      <td>1</td>\n",
              "      <td>8797</td>\n",
              "    </tr>\n",
              "    <tr>\n",
              "      <th>31055</th>\n",
              "      <td>86</td>\n",
              "      <td>0</td>\n",
              "      <td>33</td>\n",
              "      <td>4656631.0</td>\n",
              "      <td>35</td>\n",
              "      <td>24402</td>\n",
              "      <td>89</td>\n",
              "      <td>15433</td>\n",
              "      <td>1</td>\n",
              "      <td>0</td>\n",
              "      <td>0</td>\n",
              "      <td>0</td>\n",
              "      <td>0</td>\n",
              "      <td>0</td>\n",
              "      <td>1</td>\n",
              "      <td>0</td>\n",
              "      <td>1</td>\n",
              "      <td>1</td>\n",
              "      <td>3029</td>\n",
              "    </tr>\n",
              "    <tr>\n",
              "      <th>1788</th>\n",
              "      <td>35</td>\n",
              "      <td>1</td>\n",
              "      <td>37</td>\n",
              "      <td>3509728.0</td>\n",
              "      <td>77</td>\n",
              "      <td>43391</td>\n",
              "      <td>118</td>\n",
              "      <td>10719</td>\n",
              "      <td>1</td>\n",
              "      <td>0</td>\n",
              "      <td>0</td>\n",
              "      <td>0</td>\n",
              "      <td>0</td>\n",
              "      <td>1</td>\n",
              "      <td>0</td>\n",
              "      <td>0</td>\n",
              "      <td>1</td>\n",
              "      <td>1</td>\n",
              "      <td>11</td>\n",
              "    </tr>\n",
              "    <tr>\n",
              "      <th>128970</th>\n",
              "      <td>34</td>\n",
              "      <td>0</td>\n",
              "      <td>29</td>\n",
              "      <td>1102702.0</td>\n",
              "      <td>185</td>\n",
              "      <td>53345</td>\n",
              "      <td>198</td>\n",
              "      <td>32847</td>\n",
              "      <td>1</td>\n",
              "      <td>0</td>\n",
              "      <td>0</td>\n",
              "      <td>0</td>\n",
              "      <td>0</td>\n",
              "      <td>1</td>\n",
              "      <td>0</td>\n",
              "      <td>0</td>\n",
              "      <td>1</td>\n",
              "      <td>1</td>\n",
              "      <td>2134</td>\n",
              "    </tr>\n",
              "    <tr>\n",
              "      <th>3928</th>\n",
              "      <td>17</td>\n",
              "      <td>1</td>\n",
              "      <td>38</td>\n",
              "      <td>2241832.0</td>\n",
              "      <td>142</td>\n",
              "      <td>73917</td>\n",
              "      <td>168</td>\n",
              "      <td>69349</td>\n",
              "      <td>0</td>\n",
              "      <td>0</td>\n",
              "      <td>1</td>\n",
              "      <td>0</td>\n",
              "      <td>0</td>\n",
              "      <td>1</td>\n",
              "      <td>0</td>\n",
              "      <td>0</td>\n",
              "      <td>1</td>\n",
              "      <td>1</td>\n",
              "      <td>3029</td>\n",
              "    </tr>\n",
              "  </tbody>\n",
              "</table>\n",
              "</div>"
            ],
            "text/plain": [
              "        purchase_value  sex  age  ...  n_dev_shared  n_ip_shared  n_country_shared\n",
              "8660                10    1   33  ...             1            1              8797\n",
              "31055               86    0   33  ...             1            1              3029\n",
              "1788                35    1   37  ...             1            1                11\n",
              "128970              34    0   29  ...             1            1              2134\n",
              "3928                17    1   38  ...             1            1              3029\n",
              "\n",
              "[5 rows x 19 columns]"
            ]
          },
          "metadata": {
            "tags": []
          },
          "execution_count": 57
        }
      ]
    },
    {
      "cell_type": "code",
      "metadata": {
        "id": "cOTWLlZaqOP0"
      },
      "source": [
        "#Compute the train minimum and maximum to be used for later scaling:\n",
        "unscaled_features = ['purchase_value', 'age', 'interval_after_signup',\n",
        "       'signup_days_of_year', 'signup_seconds_of_day', 'purchase_days_of_year',\n",
        "       'purchase_seconds_of_day', 'n_dev_shared', 'n_ip_shared', 'n_country_shared']\n",
        "scaler = preprocessing.MinMaxScaler().fit(X_train[unscaled_features]) \n",
        "#print(scaler.data_max_)\n",
        "\n",
        "#transform the training data and use them for the model training\n",
        "X_train[unscaled_features] = scaler.transform(X_train[unscaled_features])\n",
        "\n",
        "#before the prediction of the test data, apply the same scaler obtained from above on X_test, not fitting a brandnew scaler on test\n",
        "X_test[unscaled_features] = scaler.transform(X_test[unscaled_features])\n",
        "\n"
      ],
      "execution_count": 71,
      "outputs": []
    },
    {
      "cell_type": "code",
      "metadata": {
        "id": "Oh1FMBHXmvxl",
        "outputId": "2b8ddf6f-158d-49ed-af3a-ccc7cbb2a255",
        "colab": {
          "base_uri": "https://localhost:8080/",
          "height": 136
        }
      },
      "source": [
        "X_train.n_dev_shared.value_counts(dropna=False)"
      ],
      "execution_count": 72,
      "outputs": [
        {
          "output_type": "execute_result",
          "data": {
            "text/plain": [
              "0.0    105310\n",
              "0.2      4878\n",
              "0.4       360\n",
              "0.6       116\n",
              "0.8        30\n",
              "1.0         6\n",
              "Name: n_dev_shared, dtype: int64"
            ]
          },
          "metadata": {
            "tags": []
          },
          "execution_count": 72
        }
      ]
    },
    {
      "cell_type": "code",
      "metadata": {
        "id": "WLe9yTAWnIUE",
        "outputId": "53d7463d-1e88-460d-fa85-bdee533ebc29",
        "colab": {
          "base_uri": "https://localhost:8080/",
          "height": 85
        }
      },
      "source": [
        "X_test.n_dev_shared.value_counts(dropna=False)"
      ],
      "execution_count": 73,
      "outputs": [
        {
          "output_type": "execute_result",
          "data": {
            "text/plain": [
              "0.0    27292\n",
              "0.2      366\n",
              "0.4       18\n",
              "Name: n_dev_shared, dtype: int64"
            ]
          },
          "metadata": {
            "tags": []
          },
          "execution_count": 73
        }
      ]
    },
    {
      "cell_type": "markdown",
      "metadata": {
        "id": "jTH4UOhvpLZf"
      },
      "source": [
        "# 5. Model Training"
      ]
    },
    {
      "cell_type": "markdown",
      "metadata": {
        "id": "x9W2GbVgq2ei"
      },
      "source": [
        "Simple LogisticRegression model"
      ]
    },
    {
      "cell_type": "code",
      "metadata": {
        "id": "OkdEYm02qrU0"
      },
      "source": [
        "# instantiate the model (using the default parameters)\n",
        "logreg = LogisticRegression()\n",
        "\n",
        "# fit the model with data\n",
        "logreg.fit(X_train,y_train)\n",
        "\n",
        "# predict on test\n",
        "y_pred=logreg.predict(X_test)"
      ],
      "execution_count": 74,
      "outputs": []
    },
    {
      "cell_type": "code",
      "metadata": {
        "id": "mMrF7AsYqvFr",
        "outputId": "25facfe8-140f-4b6d-b6db-fddd02e115eb",
        "colab": {
          "base_uri": "https://localhost:8080/",
          "height": 102
        }
      },
      "source": [
        "cm = metrics.confusion_matrix(y_test, y_pred)\n",
        "cmDF = pd.DataFrame(cm, columns=['pred_0', 'pred_1'], index=['true_0', 'true_1'])\n",
        "print(cmDF)\n",
        "print('recall =',float(cm[1,1])/(cm[1,0]+cm[1,1]))\n",
        "print('precision =', float(cm[1,1])/(cm[1,1] + cm[0,1]))#1.0\n",
        "print(classification_report(y_test,y_pred))\n"
      ],
      "execution_count": 76,
      "outputs": [
        {
          "output_type": "stream",
          "text": [
            "        pred_0  pred_1\n",
            "true_0   27393       0\n",
            "true_1     271      12\n",
            "recall = 0.04240282685512368\n",
            "precision = 1.0\n"
          ],
          "name": "stdout"
        }
      ]
    },
    {
      "cell_type": "markdown",
      "metadata": {
        "id": "n6HxtgxDq6Dw"
      },
      "source": [
        "Simple RF model"
      ]
    },
    {
      "cell_type": "code",
      "metadata": {
        "id": "80KetNR-qxek",
        "outputId": "cec6cf3e-4f13-49ea-fbca-0b7a7035e48a",
        "colab": {
          "base_uri": "https://localhost:8080/",
          "height": 323
        }
      },
      "source": [
        "classifier_RF = RandomForestClassifier(random_state=0)\n",
        "\n",
        "classifier_RF.fit(X_train, y_train)\n",
        "\n",
        "# predict class labels 0/1 for the test set\n",
        "predicted = classifier_RF.predict(X_test)\n",
        "\n",
        "# generate class probabilities\n",
        "probs = classifier_RF.predict_proba(X_test)\n",
        "\n",
        "# generate evaluation metrics\n",
        "print(\"%s: %r\" % (\"accuracy_score is: \", accuracy_score(y_test, predicted)))\n",
        "print(\"%s: %r\" % (\"roc_auc_score is: \", roc_auc_score(y_test, probs[:, 1])))\n",
        "print(\"%s: %r\" % (\"f1_score is: \", f1_score(y_test, predicted )))#string to int\n",
        "\n",
        "print (\"confusion_matrix is: \")\n",
        "cm = confusion_matrix(y_test, predicted)\n",
        "cmDF = pd.DataFrame(cm, columns=['pred_0', 'pred_1'], index=['true_0', 'true_1'])\n",
        "print(cmDF)\n",
        "print('recall =',float(cm[1,1])/(cm[1,0]+cm[1,1]))\n",
        "print('precision =', float(cm[1,1])/(cm[1,1] + cm[0,1]))#1.0\n",
        "print(classification_report(y_test,predicted))"
      ],
      "execution_count": 79,
      "outputs": [
        {
          "output_type": "stream",
          "text": [
            "accuracy_score is: : 0.9951221274750687\n",
            "roc_auc_score is: : 0.7550976694543846\n",
            "f1_score is: : 0.6867749419953596\n",
            "confusion_matrix is: \n",
            "        pred_0  pred_1\n",
            "true_0   27393       0\n",
            "true_1     135     148\n",
            "recall = 0.5229681978798587\n",
            "precision = 1.0\n",
            "              precision    recall  f1-score   support\n",
            "\n",
            "           0       1.00      1.00      1.00     27393\n",
            "           1       1.00      0.52      0.69       283\n",
            "\n",
            "    accuracy                           1.00     27676\n",
            "   macro avg       1.00      0.76      0.84     27676\n",
            "weighted avg       1.00      1.00      0.99     27676\n",
            "\n"
          ],
          "name": "stdout"
        }
      ]
    },
    {
      "cell_type": "markdown",
      "metadata": {
        "id": "0iDA5X4hrIYB"
      },
      "source": [
        "SMOTE sampling"
      ]
    },
    {
      "cell_type": "code",
      "metadata": {
        "id": "caUbRizDq9Im",
        "outputId": "784f2dc3-4772-4385-b837-f5e0e89275b8",
        "colab": {
          "base_uri": "https://localhost:8080/",
          "height": 105
        }
      },
      "source": [
        "#Wrong way to sampling: smote before split train/test, then test data does not reflect true distribution in reality, \n",
        "#and “blend” information from the test set into the training of the model. overfit! think about the case of simple \n",
        "#oversampling (where I just duplicate observations). If I upsample a dataset before splitting it into a train and \n",
        "#validation set, I could end up with the same observation in both datasets\n",
        "\n",
        "#https://imbalanced-learn.org/en/stable/install.html\n",
        "\n",
        "# Install\n",
        "# imbalanced-learn is currently available on the PyPi’s reporitories and you can install it via pip:\n",
        "\n",
        "# pip install -U imbalanced-learn\n",
        "\n",
        "#oversampling on only the training data, the right way! \n",
        "#sampling_strategy = number of samples in the majority class over the number of samples in the minority class after resampling\n",
        "\n",
        "smote = SMOTE(random_state=12)\n",
        "x_train_sm, y_train_sm = smote.fit_sample(X_train, y_train)\n",
        "\n",
        "unique, counts = np.unique(y_train_sm, return_counts=True)\n",
        "\n",
        "print(np.asarray((unique, counts)).T)"
      ],
      "execution_count": 80,
      "outputs": [
        {
          "output_type": "stream",
          "text": [
            "/usr/local/lib/python3.6/dist-packages/sklearn/utils/deprecation.py:87: FutureWarning: Function safe_indexing is deprecated; safe_indexing is deprecated in version 0.22 and will be removed in version 0.24.\n",
            "  warnings.warn(msg, category=FutureWarning)\n"
          ],
          "name": "stderr"
        },
        {
          "output_type": "stream",
          "text": [
            "[[     0 109568]\n",
            " [     1 109568]]\n"
          ],
          "name": "stdout"
        }
      ]
    },
    {
      "cell_type": "code",
      "metadata": {
        "id": "rbCwzZYSrNGn",
        "outputId": "4e1c454d-d543-4191-ed51-7d05ab8224ff",
        "colab": {
          "base_uri": "https://localhost:8080/",
          "height": 170
        }
      },
      "source": [
        "#RF on smoted training data\n",
        "classifier_RF_sm = RandomForestClassifier(random_state=0)\n",
        "\n",
        "classifier_RF_sm.fit(x_train_sm, y_train_sm)\n",
        "\n",
        "# predict class labels for the test set\n",
        "predicted_sm = classifier_RF_sm.predict(X_test)\n",
        "\n",
        "# generate class probabilities\n",
        "probs_sm = classifier_RF_sm.predict_proba(X_test)\n",
        "\n",
        "# generate evaluation metrics\n",
        "print(\"%s: %r\" % (\"accuracy_score_sm is: \", accuracy_score(y_test, predicted_sm)))\n",
        "print(\"%s: %r\" % (\"roc_auc_score_sm is: \", roc_auc_score(y_test, probs_sm[:, 1])))\n",
        "print(\"%s: %r\" % (\"f1_score_sm is: \", f1_score(y_test, predicted_sm )))#string to int\n",
        "\n",
        "print (\"confusion_matrix_sm is: \")\n",
        "cm_sm = confusion_matrix(y_test, predicted_sm)\n",
        "cmDF = pd.DataFrame(cm_sm, columns=['pred_0', 'pred_1'], index=['true_0', 'true_1'])\n",
        "print(cmDF)\n",
        "print('recall or sens_sm =',float(cm_sm[1,1])/(cm_sm[1,0]+cm_sm[1,1]))\n",
        "print('precision_sm =', float(cm_sm[1,1])/(cm_sm[1,1] + cm_sm[0,1]))\n",
        "\n",
        "#different AUC??"
      ],
      "execution_count": 81,
      "outputs": [
        {
          "output_type": "stream",
          "text": [
            "accuracy_score_sm is: : 0.8486775545599075\n",
            "roc_auc_score_sm is: : 0.767858338367376\n",
            "f1_score_sm is: : 0.07467962881131242\n",
            "confusion_matrix_sm is: \n",
            "        pred_0  pred_1\n",
            "true_0   23319    4074\n",
            "true_1     114     169\n",
            "recall or sens_sm = 0.5971731448763251\n",
            "precision_sm = 0.03983030874381334\n"
          ],
          "name": "stdout"
        }
      ]
    },
    {
      "cell_type": "markdown",
      "metadata": {
        "id": "9a3p8gGj3quO"
      },
      "source": [
        "SMOTE resampling has increased false positives a lot."
      ]
    },
    {
      "cell_type": "markdown",
      "metadata": {
        "id": "ldszZ1T-rhOx"
      },
      "source": [
        "# Parameter tuning by GridSearchCV"
      ]
    },
    {
      "cell_type": "markdown",
      "metadata": {
        "id": "F1bV_jCkrkWF"
      },
      "source": [
        "Eval metrics for GridSearchCV over all fits upon combination of parameters and cv"
      ]
    },
    {
      "cell_type": "code",
      "metadata": {
        "id": "sFfAZlQDrQAb"
      },
      "source": [
        "# Eval metrics to be calculated for each combination of parameters and cv, they are all calculated(by scoring), but not necessarily used to pick the optimal(by refit)\n",
        "scorers = {\n",
        "    'precision_score': make_scorer(precision_score),\n",
        "    'recall_score': make_scorer(recall_score),\n",
        "    'f1_score': make_scorer(f1_score, pos_label=1)\n",
        "    \n",
        "}"
      ],
      "execution_count": 86,
      "outputs": []
    },
    {
      "cell_type": "code",
      "metadata": {
        "id": "RdgTcDHirmpK"
      },
      "source": [
        "def grid_search_wrapper(model, parameters, refit_score='f1_score'):\n",
        "    \"\"\"\n",
        "    fits a GridSearchCV classifier using refit_score for optimization(refit on the best model according to refit_score)\n",
        "    prints classifier performance metrics\n",
        "    \"\"\"\n",
        "\n",
        "    grid_search = GridSearchCV(model, parameters, scoring=scorers, refit=refit_score,\n",
        "                           cv=3, return_train_score=True, n_jobs=-1)\n",
        "    grid_search.fit(X_train, y_train)\n",
        "\n",
        "    # make the predictions\n",
        "    y_pred = grid_search.predict(X_test)\n",
        "    y_prob = grid_search.predict_proba(X_test)[:, 1]\n",
        "    \n",
        "    print('Best params for {}'.format(refit_score))\n",
        "    print(grid_search.best_params_)\n",
        "\n",
        "    # confusion matrix on the test data.\n",
        "    print('\\nConfusion matrix of Random Forest optimized for {} on the test data:'.format(refit_score))\n",
        "    cm = confusion_matrix(y_test, y_pred)\n",
        "    cmDF = pd.DataFrame(cm, columns=['pred_0', 'pred_1'], index=['true_0', 'true_1'])\n",
        "    print(cmDF)\n",
        "    \n",
        "    print(\"\\t%s: %r\" % (\"roc_auc_score is: \", roc_auc_score(y_test, y_prob)))\n",
        "    print(\"\\t%s: %r\" % (\"f1_score is: \", f1_score(y_test, y_pred)))#string to int\n",
        "\n",
        "    print('recall = ', float(cm[1,1]) / (cm[1,0] + cm[1,1]))\n",
        "    print('precision = ', float(cm[1,1]) / (cm[1, 1] + cm[0,1]))\n",
        "\n",
        "    return grid_search\n",
        "\n"
      ],
      "execution_count": 87,
      "outputs": []
    },
    {
      "cell_type": "markdown",
      "metadata": {
        "id": "hsRYsbmWrxRX"
      },
      "source": [
        "Optimizing on f1_score on LR"
      ]
    },
    {
      "cell_type": "code",
      "metadata": {
        "id": "auoYm_uXrpK8",
        "outputId": "f09b5530-f489-4796-9a62-586581e9888d",
        "colab": {
          "base_uri": "https://localhost:8080/",
          "height": 204
        }
      },
      "source": [
        "# C: inverse of regularization strength, smaller values specify stronger regularization\n",
        "LRGrid = {\"C\" : np.logspace(-2,2,5), \"penalty\":[\"l1\",\"l2\"]}# l1 lasso l2 ridge\n",
        "#param_grid = {'C': [0.01, 0.1, 1, 10, 100], 'penalty': ['l1', 'l2']}\n",
        "logRegModel = LogisticRegression(random_state=0)\n",
        "\n",
        "grid_search_LR_f1 = grid_search_wrapper(logRegModel, LRGrid, refit_score='f1_score')"
      ],
      "execution_count": 88,
      "outputs": [
        {
          "output_type": "stream",
          "text": [
            "Best params for f1_score\n",
            "{'C': 1.0, 'penalty': 'l2'}\n",
            "\n",
            "Confusion matrix of Random Forest optimized for f1_score on the test data:\n",
            "        pred_0  pred_1\n",
            "true_0   27393       0\n",
            "true_1     271      12\n",
            "\troc_auc_score is: : 0.7894267434911216\n",
            "\tf1_score is: : 0.08135593220338982\n",
            "recall =  0.04240282685512368\n",
            "precision =  1.0\n"
          ],
          "name": "stdout"
        }
      ]
    },
    {
      "cell_type": "markdown",
      "metadata": {
        "id": "8nXA4BYJr238"
      },
      "source": [
        "Optimizing on f1_score on RF"
      ]
    },
    {
      "cell_type": "code",
      "metadata": {
        "id": "WYdxvC56r0i4"
      },
      "source": [
        "parameters = {        \n",
        "'max_depth': [None, 5, 15],\n",
        "'n_estimators' :  [10,150],\n",
        "'class_weight' : [{0: 1, 1: w} for w in [0.2, 1, 100]]\n",
        "}\n",
        "\n",
        "clf = RandomForestClassifier(random_state=0)"
      ],
      "execution_count": 89,
      "outputs": []
    },
    {
      "cell_type": "code",
      "metadata": {
        "id": "Ts64O7eWr5g2",
        "outputId": "dfe9b6da-f720-402f-c796-1e60fe513392",
        "colab": {
          "base_uri": "https://localhost:8080/",
          "height": 204
        }
      },
      "source": [
        "grid_search_rf_f1 = grid_search_wrapper(clf, parameters, refit_score='f1_score')"
      ],
      "execution_count": 90,
      "outputs": [
        {
          "output_type": "stream",
          "text": [
            "Best params for f1_score\n",
            "{'class_weight': {0: 1, 1: 0.2}, 'max_depth': 5, 'n_estimators': 10}\n",
            "\n",
            "Confusion matrix of Random Forest optimized for f1_score on the test data:\n",
            "        pred_0  pred_1\n",
            "true_0   27393       0\n",
            "true_1     135     148\n",
            "\troc_auc_score is: : 0.7929720509701802\n",
            "\tf1_score is: : 0.6867749419953596\n",
            "recall =  0.5229681978798587\n",
            "precision =  1.0\n"
          ],
          "name": "stdout"
        }
      ]
    },
    {
      "cell_type": "code",
      "metadata": {
        "id": "xjYCYlbmr8BV",
        "outputId": "f6e9e5a3-b3e2-4cf9-cac3-66b7d8654596",
        "colab": {
          "base_uri": "https://localhost:8080/",
          "height": 153
        }
      },
      "source": [
        "best_rf_model_f1 = grid_search_rf_f1.best_estimator_\n",
        "best_rf_model_f1"
      ],
      "execution_count": 91,
      "outputs": [
        {
          "output_type": "execute_result",
          "data": {
            "text/plain": [
              "RandomForestClassifier(bootstrap=True, ccp_alpha=0.0,\n",
              "                       class_weight={0: 1, 1: 0.2}, criterion='gini',\n",
              "                       max_depth=5, max_features='auto', max_leaf_nodes=None,\n",
              "                       max_samples=None, min_impurity_decrease=0.0,\n",
              "                       min_impurity_split=None, min_samples_leaf=1,\n",
              "                       min_samples_split=2, min_weight_fraction_leaf=0.0,\n",
              "                       n_estimators=10, n_jobs=None, oob_score=False,\n",
              "                       random_state=0, verbose=0, warm_start=False)"
            ]
          },
          "metadata": {
            "tags": []
          },
          "execution_count": 91
        }
      ]
    },
    {
      "cell_type": "code",
      "metadata": {
        "id": "K6NOTqRHr-oA",
        "outputId": "834bfb4e-e0a4-4181-ab93-53b70841c27b",
        "colab": {
          "base_uri": "https://localhost:8080/",
          "height": 224
        }
      },
      "source": [
        "results_f1 = pd.DataFrame(grid_search_rf_f1.cv_results_)\n",
        "results_sortf1 = results_f1.sort_values(by='mean_test_f1_score', ascending=False)\n",
        "results_sortf1[['mean_test_precision_score', 'mean_test_recall_score', 'mean_test_f1_score', 'mean_train_precision_score', 'mean_train_recall_score', 'mean_train_f1_score','param_max_depth', 'param_class_weight', 'param_n_estimators']].round(3).head()\n",
        "\n"
      ],
      "execution_count": 92,
      "outputs": [
        {
          "output_type": "execute_result",
          "data": {
            "text/html": [
              "<div>\n",
              "<style scoped>\n",
              "    .dataframe tbody tr th:only-of-type {\n",
              "        vertical-align: middle;\n",
              "    }\n",
              "\n",
              "    .dataframe tbody tr th {\n",
              "        vertical-align: top;\n",
              "    }\n",
              "\n",
              "    .dataframe thead th {\n",
              "        text-align: right;\n",
              "    }\n",
              "</style>\n",
              "<table border=\"1\" class=\"dataframe\">\n",
              "  <thead>\n",
              "    <tr style=\"text-align: right;\">\n",
              "      <th></th>\n",
              "      <th>mean_test_precision_score</th>\n",
              "      <th>mean_test_recall_score</th>\n",
              "      <th>mean_test_f1_score</th>\n",
              "      <th>mean_train_precision_score</th>\n",
              "      <th>mean_train_recall_score</th>\n",
              "      <th>mean_train_f1_score</th>\n",
              "      <th>param_max_depth</th>\n",
              "      <th>param_class_weight</th>\n",
              "      <th>param_n_estimators</th>\n",
              "    </tr>\n",
              "  </thead>\n",
              "  <tbody>\n",
              "    <tr>\n",
              "      <th>2</th>\n",
              "      <td>1.000</td>\n",
              "      <td>0.522</td>\n",
              "      <td>0.686</td>\n",
              "      <td>1.0</td>\n",
              "      <td>0.522</td>\n",
              "      <td>0.686</td>\n",
              "      <td>5</td>\n",
              "      <td>{0: 1, 1: 0.2}</td>\n",
              "      <td>10</td>\n",
              "    </tr>\n",
              "    <tr>\n",
              "      <th>9</th>\n",
              "      <td>0.998</td>\n",
              "      <td>0.522</td>\n",
              "      <td>0.686</td>\n",
              "      <td>1.0</td>\n",
              "      <td>0.522</td>\n",
              "      <td>0.686</td>\n",
              "      <td>5</td>\n",
              "      <td>{0: 1, 1: 1}</td>\n",
              "      <td>150</td>\n",
              "    </tr>\n",
              "    <tr>\n",
              "      <th>3</th>\n",
              "      <td>0.998</td>\n",
              "      <td>0.522</td>\n",
              "      <td>0.686</td>\n",
              "      <td>1.0</td>\n",
              "      <td>0.522</td>\n",
              "      <td>0.686</td>\n",
              "      <td>5</td>\n",
              "      <td>{0: 1, 1: 0.2}</td>\n",
              "      <td>150</td>\n",
              "    </tr>\n",
              "    <tr>\n",
              "      <th>7</th>\n",
              "      <td>0.998</td>\n",
              "      <td>0.522</td>\n",
              "      <td>0.686</td>\n",
              "      <td>1.0</td>\n",
              "      <td>0.999</td>\n",
              "      <td>1.000</td>\n",
              "      <td>None</td>\n",
              "      <td>{0: 1, 1: 1}</td>\n",
              "      <td>150</td>\n",
              "    </tr>\n",
              "    <tr>\n",
              "      <th>13</th>\n",
              "      <td>0.998</td>\n",
              "      <td>0.522</td>\n",
              "      <td>0.686</td>\n",
              "      <td>1.0</td>\n",
              "      <td>0.999</td>\n",
              "      <td>1.000</td>\n",
              "      <td>None</td>\n",
              "      <td>{0: 1, 1: 100}</td>\n",
              "      <td>150</td>\n",
              "    </tr>\n",
              "  </tbody>\n",
              "</table>\n",
              "</div>"
            ],
            "text/plain": [
              "    mean_test_precision_score  ...  param_n_estimators\n",
              "2                       1.000  ...                  10\n",
              "9                       0.998  ...                 150\n",
              "3                       0.998  ...                 150\n",
              "7                       0.998  ...                 150\n",
              "13                      0.998  ...                 150\n",
              "\n",
              "[5 rows x 9 columns]"
            ]
          },
          "metadata": {
            "tags": []
          },
          "execution_count": 92
        }
      ]
    },
    {
      "cell_type": "code",
      "metadata": {
        "id": "ccCAMjbrsBK1",
        "outputId": "302da4af-f0dc-4e9e-e9dc-4a57ac2fe0bb",
        "colab": {
          "base_uri": "https://localhost:8080/",
          "height": 638
        }
      },
      "source": [
        "#Var Importance\n",
        "pd.DataFrame(best_rf_model_f1.feature_importances_, index = X_train.columns, columns=['importance']).sort_values('importance', ascending=False)\n",
        "\n",
        "\n"
      ],
      "execution_count": 93,
      "outputs": [
        {
          "output_type": "execute_result",
          "data": {
            "text/html": [
              "<div>\n",
              "<style scoped>\n",
              "    .dataframe tbody tr th:only-of-type {\n",
              "        vertical-align: middle;\n",
              "    }\n",
              "\n",
              "    .dataframe tbody tr th {\n",
              "        vertical-align: top;\n",
              "    }\n",
              "\n",
              "    .dataframe thead th {\n",
              "        text-align: right;\n",
              "    }\n",
              "</style>\n",
              "<table border=\"1\" class=\"dataframe\">\n",
              "  <thead>\n",
              "    <tr style=\"text-align: right;\">\n",
              "      <th></th>\n",
              "      <th>importance</th>\n",
              "    </tr>\n",
              "  </thead>\n",
              "  <tbody>\n",
              "    <tr>\n",
              "      <th>interval_after_signup</th>\n",
              "      <td>0.618852</td>\n",
              "    </tr>\n",
              "    <tr>\n",
              "      <th>n_dev_shared</th>\n",
              "      <td>0.173638</td>\n",
              "    </tr>\n",
              "    <tr>\n",
              "      <th>purchase_days_of_year</th>\n",
              "      <td>0.144865</td>\n",
              "    </tr>\n",
              "    <tr>\n",
              "      <th>n_ip_shared</th>\n",
              "      <td>0.040686</td>\n",
              "    </tr>\n",
              "    <tr>\n",
              "      <th>signup_days_of_year</th>\n",
              "      <td>0.006269</td>\n",
              "    </tr>\n",
              "    <tr>\n",
              "      <th>age</th>\n",
              "      <td>0.002822</td>\n",
              "    </tr>\n",
              "    <tr>\n",
              "      <th>purchase_seconds_of_day</th>\n",
              "      <td>0.002567</td>\n",
              "    </tr>\n",
              "    <tr>\n",
              "      <th>signup_seconds_of_day</th>\n",
              "      <td>0.002555</td>\n",
              "    </tr>\n",
              "    <tr>\n",
              "      <th>browser_FireFox</th>\n",
              "      <td>0.002187</td>\n",
              "    </tr>\n",
              "    <tr>\n",
              "      <th>source_Direct</th>\n",
              "      <td>0.001902</td>\n",
              "    </tr>\n",
              "    <tr>\n",
              "      <th>n_country_shared</th>\n",
              "      <td>0.001123</td>\n",
              "    </tr>\n",
              "    <tr>\n",
              "      <th>purchase_value</th>\n",
              "      <td>0.001028</td>\n",
              "    </tr>\n",
              "    <tr>\n",
              "      <th>browser_Opera</th>\n",
              "      <td>0.000526</td>\n",
              "    </tr>\n",
              "    <tr>\n",
              "      <th>source_Ads</th>\n",
              "      <td>0.000484</td>\n",
              "    </tr>\n",
              "    <tr>\n",
              "      <th>browser_Safari</th>\n",
              "      <td>0.000280</td>\n",
              "    </tr>\n",
              "    <tr>\n",
              "      <th>sex</th>\n",
              "      <td>0.000179</td>\n",
              "    </tr>\n",
              "    <tr>\n",
              "      <th>source_SEO</th>\n",
              "      <td>0.000033</td>\n",
              "    </tr>\n",
              "    <tr>\n",
              "      <th>browser_Chrome</th>\n",
              "      <td>0.000005</td>\n",
              "    </tr>\n",
              "    <tr>\n",
              "      <th>browser_IE</th>\n",
              "      <td>0.000001</td>\n",
              "    </tr>\n",
              "  </tbody>\n",
              "</table>\n",
              "</div>"
            ],
            "text/plain": [
              "                         importance\n",
              "interval_after_signup      0.618852\n",
              "n_dev_shared               0.173638\n",
              "purchase_days_of_year      0.144865\n",
              "n_ip_shared                0.040686\n",
              "signup_days_of_year        0.006269\n",
              "age                        0.002822\n",
              "purchase_seconds_of_day    0.002567\n",
              "signup_seconds_of_day      0.002555\n",
              "browser_FireFox            0.002187\n",
              "source_Direct              0.001902\n",
              "n_country_shared           0.001123\n",
              "purchase_value             0.001028\n",
              "browser_Opera              0.000526\n",
              "source_Ads                 0.000484\n",
              "browser_Safari             0.000280\n",
              "sex                        0.000179\n",
              "source_SEO                 0.000033\n",
              "browser_Chrome             0.000005\n",
              "browser_IE                 0.000001"
            ]
          },
          "metadata": {
            "tags": []
          },
          "execution_count": 93
        }
      ]
    },
    {
      "cell_type": "markdown",
      "metadata": {
        "id": "VMBjORQlsGGZ"
      },
      "source": [
        "Optimizing recall_score on RF"
      ]
    },
    {
      "cell_type": "code",
      "metadata": {
        "id": "9A7_0wtfsD8d",
        "outputId": "ec8b2af4-fb09-46c4-cd3f-2c8b865a8fc2",
        "colab": {
          "base_uri": "https://localhost:8080/",
          "height": 204
        }
      },
      "source": [
        "grid_search_rf_recall = grid_search_wrapper(clf, parameters, refit_score='recall_score')"
      ],
      "execution_count": 94,
      "outputs": [
        {
          "output_type": "stream",
          "text": [
            "Best params for recall_score\n",
            "{'class_weight': {0: 1, 1: 100}, 'max_depth': 5, 'n_estimators': 10}\n",
            "\n",
            "Confusion matrix of Random Forest optimized for recall_score on the test data:\n",
            "        pred_0  pred_1\n",
            "true_0   27098     295\n",
            "true_1     124     159\n",
            "\troc_auc_score is: : 0.7865129326196796\n",
            "\tf1_score is: : 0.43147896879240166\n",
            "recall =  0.5618374558303887\n",
            "precision =  0.3502202643171806\n"
          ],
          "name": "stdout"
        }
      ]
    },
    {
      "cell_type": "code",
      "metadata": {
        "id": "IzvlVI_VsIpb",
        "outputId": "96cef380-f60e-4ce9-bf26-56995c674d7e",
        "colab": {
          "base_uri": "https://localhost:8080/",
          "height": 153
        }
      },
      "source": [
        "best_RF_model_recall = grid_search_rf_recall.best_estimator_\n",
        "best_RF_model_recall"
      ],
      "execution_count": 95,
      "outputs": [
        {
          "output_type": "execute_result",
          "data": {
            "text/plain": [
              "RandomForestClassifier(bootstrap=True, ccp_alpha=0.0,\n",
              "                       class_weight={0: 1, 1: 100}, criterion='gini',\n",
              "                       max_depth=5, max_features='auto', max_leaf_nodes=None,\n",
              "                       max_samples=None, min_impurity_decrease=0.0,\n",
              "                       min_impurity_split=None, min_samples_leaf=1,\n",
              "                       min_samples_split=2, min_weight_fraction_leaf=0.0,\n",
              "                       n_estimators=10, n_jobs=None, oob_score=False,\n",
              "                       random_state=0, verbose=0, warm_start=False)"
            ]
          },
          "metadata": {
            "tags": []
          },
          "execution_count": 95
        }
      ]
    },
    {
      "cell_type": "code",
      "metadata": {
        "id": "Y7ncW6mZsKx_",
        "outputId": "93f51731-e63d-4e0b-ae8e-c7f3ef2bbd21",
        "colab": {
          "base_uri": "https://localhost:8080/",
          "height": 224
        }
      },
      "source": [
        "# predict class labels for the test set\n",
        "predictedBest_recall = best_RF_model_recall.predict(X_test)\n",
        "\n",
        "# generate class probabilities\n",
        "probsBest_recall = best_RF_model_recall.predict_proba(X_test)\n",
        "\n",
        "results_recall = pd.DataFrame(grid_search_rf_recall.cv_results_)# recall score is different from above, as above is metric on test data, this is performance on cv data\n",
        "results_sortrecall = results_recall.sort_values(by='mean_test_recall_score', ascending=False)\n",
        "results_sortrecall[['mean_test_precision_score', 'mean_test_recall_score', 'mean_test_f1_score', 'mean_train_precision_score', 'mean_train_recall_score', 'mean_train_f1_score','param_max_depth', 'param_class_weight', 'param_n_estimators']].round(3).head()\n",
        "#recall is worse than default rf?? no this is on test, but train recall is better"
      ],
      "execution_count": 96,
      "outputs": [
        {
          "output_type": "execute_result",
          "data": {
            "text/html": [
              "<div>\n",
              "<style scoped>\n",
              "    .dataframe tbody tr th:only-of-type {\n",
              "        vertical-align: middle;\n",
              "    }\n",
              "\n",
              "    .dataframe tbody tr th {\n",
              "        vertical-align: top;\n",
              "    }\n",
              "\n",
              "    .dataframe thead th {\n",
              "        text-align: right;\n",
              "    }\n",
              "</style>\n",
              "<table border=\"1\" class=\"dataframe\">\n",
              "  <thead>\n",
              "    <tr style=\"text-align: right;\">\n",
              "      <th></th>\n",
              "      <th>mean_test_precision_score</th>\n",
              "      <th>mean_test_recall_score</th>\n",
              "      <th>mean_test_f1_score</th>\n",
              "      <th>mean_train_precision_score</th>\n",
              "      <th>mean_train_recall_score</th>\n",
              "      <th>mean_train_f1_score</th>\n",
              "      <th>param_max_depth</th>\n",
              "      <th>param_class_weight</th>\n",
              "      <th>param_n_estimators</th>\n",
              "    </tr>\n",
              "  </thead>\n",
              "  <tbody>\n",
              "    <tr>\n",
              "      <th>14</th>\n",
              "      <td>0.154</td>\n",
              "      <td>0.617</td>\n",
              "      <td>0.246</td>\n",
              "      <td>0.159</td>\n",
              "      <td>0.640</td>\n",
              "      <td>0.254</td>\n",
              "      <td>5</td>\n",
              "      <td>{0: 1, 1: 100}</td>\n",
              "      <td>10</td>\n",
              "    </tr>\n",
              "    <tr>\n",
              "      <th>15</th>\n",
              "      <td>0.163</td>\n",
              "      <td>0.614</td>\n",
              "      <td>0.256</td>\n",
              "      <td>0.171</td>\n",
              "      <td>0.645</td>\n",
              "      <td>0.269</td>\n",
              "      <td>5</td>\n",
              "      <td>{0: 1, 1: 100}</td>\n",
              "      <td>150</td>\n",
              "    </tr>\n",
              "    <tr>\n",
              "      <th>0</th>\n",
              "      <td>0.995</td>\n",
              "      <td>0.522</td>\n",
              "      <td>0.685</td>\n",
              "      <td>0.999</td>\n",
              "      <td>0.876</td>\n",
              "      <td>0.934</td>\n",
              "      <td>None</td>\n",
              "      <td>{0: 1, 1: 0.2}</td>\n",
              "      <td>10</td>\n",
              "    </tr>\n",
              "    <tr>\n",
              "      <th>8</th>\n",
              "      <td>0.995</td>\n",
              "      <td>0.522</td>\n",
              "      <td>0.685</td>\n",
              "      <td>0.997</td>\n",
              "      <td>0.521</td>\n",
              "      <td>0.684</td>\n",
              "      <td>5</td>\n",
              "      <td>{0: 1, 1: 1}</td>\n",
              "      <td>10</td>\n",
              "    </tr>\n",
              "    <tr>\n",
              "      <th>13</th>\n",
              "      <td>0.998</td>\n",
              "      <td>0.522</td>\n",
              "      <td>0.686</td>\n",
              "      <td>1.000</td>\n",
              "      <td>0.999</td>\n",
              "      <td>1.000</td>\n",
              "      <td>None</td>\n",
              "      <td>{0: 1, 1: 100}</td>\n",
              "      <td>150</td>\n",
              "    </tr>\n",
              "  </tbody>\n",
              "</table>\n",
              "</div>"
            ],
            "text/plain": [
              "    mean_test_precision_score  ...  param_n_estimators\n",
              "14                      0.154  ...                  10\n",
              "15                      0.163  ...                 150\n",
              "0                       0.995  ...                  10\n",
              "8                       0.995  ...                  10\n",
              "13                      0.998  ...                 150\n",
              "\n",
              "[5 rows x 9 columns]"
            ]
          },
          "metadata": {
            "tags": []
          },
          "execution_count": 96
        }
      ]
    },
    {
      "cell_type": "markdown",
      "metadata": {
        "id": "UXvU-OxVsUs7"
      },
      "source": [
        "# Project tasks"
      ]
    },
    {
      "cell_type": "code",
      "metadata": {
        "id": "jL6RHnausPcH",
        "outputId": "ffa2ac7d-ba39-45f0-e4e1-bd0fffb1b5a0",
        "colab": {
          "base_uri": "https://localhost:8080/",
          "height": 266
        }
      },
      "source": [
        "#for task 3, based on the above var importance\n",
        "trainDF = pd.concat([X_train, y_train], axis=1)\n",
        "pd.crosstab(trainDF[\"n_dev_shared\"],trainDF[\"class\"])\n",
        "#the larger n_dev_shared, the higher rate of fraud"
      ],
      "execution_count": 97,
      "outputs": [
        {
          "output_type": "execute_result",
          "data": {
            "text/html": [
              "<div>\n",
              "<style scoped>\n",
              "    .dataframe tbody tr th:only-of-type {\n",
              "        vertical-align: middle;\n",
              "    }\n",
              "\n",
              "    .dataframe tbody tr th {\n",
              "        vertical-align: top;\n",
              "    }\n",
              "\n",
              "    .dataframe thead th {\n",
              "        text-align: right;\n",
              "    }\n",
              "</style>\n",
              "<table border=\"1\" class=\"dataframe\">\n",
              "  <thead>\n",
              "    <tr style=\"text-align: right;\">\n",
              "      <th>class</th>\n",
              "      <th>0</th>\n",
              "      <th>1</th>\n",
              "    </tr>\n",
              "    <tr>\n",
              "      <th>n_dev_shared</th>\n",
              "      <th></th>\n",
              "      <th></th>\n",
              "    </tr>\n",
              "  </thead>\n",
              "  <tbody>\n",
              "    <tr>\n",
              "      <th>0.0</th>\n",
              "      <td>104853</td>\n",
              "      <td>457</td>\n",
              "    </tr>\n",
              "    <tr>\n",
              "      <th>0.2</th>\n",
              "      <td>4509</td>\n",
              "      <td>369</td>\n",
              "    </tr>\n",
              "    <tr>\n",
              "      <th>0.4</th>\n",
              "      <td>171</td>\n",
              "      <td>189</td>\n",
              "    </tr>\n",
              "    <tr>\n",
              "      <th>0.6</th>\n",
              "      <td>29</td>\n",
              "      <td>87</td>\n",
              "    </tr>\n",
              "    <tr>\n",
              "      <th>0.8</th>\n",
              "      <td>6</td>\n",
              "      <td>24</td>\n",
              "    </tr>\n",
              "    <tr>\n",
              "      <th>1.0</th>\n",
              "      <td>0</td>\n",
              "      <td>6</td>\n",
              "    </tr>\n",
              "  </tbody>\n",
              "</table>\n",
              "</div>"
            ],
            "text/plain": [
              "class              0    1\n",
              "n_dev_shared             \n",
              "0.0           104853  457\n",
              "0.2             4509  369\n",
              "0.4              171  189\n",
              "0.6               29   87\n",
              "0.8                6   24\n",
              "1.0                0    6"
            ]
          },
          "metadata": {
            "tags": []
          },
          "execution_count": 97
        }
      ]
    },
    {
      "cell_type": "code",
      "metadata": {
        "id": "cYog2kSTsakj",
        "outputId": "9c8cd4cd-cb65-4c3b-ab7b-83b4dfb6f681",
        "colab": {
          "base_uri": "https://localhost:8080/",
          "height": 142
        }
      },
      "source": [
        "fraud_data.groupby(\"class\")[['interval_after_signup']].mean()#action velocity(consecutive operations/actions of user)\n",
        "#interval_after_signup on frauds are significantly lower compared to legits"
      ],
      "execution_count": 98,
      "outputs": [
        {
          "output_type": "execute_result",
          "data": {
            "text/html": [
              "<div>\n",
              "<style scoped>\n",
              "    .dataframe tbody tr th:only-of-type {\n",
              "        vertical-align: middle;\n",
              "    }\n",
              "\n",
              "    .dataframe tbody tr th {\n",
              "        vertical-align: top;\n",
              "    }\n",
              "\n",
              "    .dataframe thead th {\n",
              "        text-align: right;\n",
              "    }\n",
              "</style>\n",
              "<table border=\"1\" class=\"dataframe\">\n",
              "  <thead>\n",
              "    <tr style=\"text-align: right;\">\n",
              "      <th></th>\n",
              "      <th>interval_after_signup</th>\n",
              "    </tr>\n",
              "    <tr>\n",
              "      <th>class</th>\n",
              "      <th></th>\n",
              "    </tr>\n",
              "  </thead>\n",
              "  <tbody>\n",
              "    <tr>\n",
              "      <th>0</th>\n",
              "      <td>5.191179e+06</td>\n",
              "    </tr>\n",
              "    <tr>\n",
              "      <th>1</th>\n",
              "      <td>2.570226e+06</td>\n",
              "    </tr>\n",
              "  </tbody>\n",
              "</table>\n",
              "</div>"
            ],
            "text/plain": [
              "       interval_after_signup\n",
              "class                       \n",
              "0               5.191179e+06\n",
              "1               2.570226e+06"
            ]
          },
          "metadata": {
            "tags": []
          },
          "execution_count": 98
        }
      ]
    },
    {
      "cell_type": "code",
      "metadata": {
        "id": "qtX09Ptpujgi",
        "outputId": "09a8f1cb-8c15-4b3d-d0ce-ee92660b0794",
        "colab": {
          "base_uri": "https://localhost:8080/",
          "height": 142
        }
      },
      "source": [
        "fraud_data.groupby(\"class\")[['interval_after_signup']].median()#1\n",
        "#more than half of fraud happened 1s after signed up"
      ],
      "execution_count": 99,
      "outputs": [
        {
          "output_type": "execute_result",
          "data": {
            "text/html": [
              "<div>\n",
              "<style scoped>\n",
              "    .dataframe tbody tr th:only-of-type {\n",
              "        vertical-align: middle;\n",
              "    }\n",
              "\n",
              "    .dataframe tbody tr th {\n",
              "        vertical-align: top;\n",
              "    }\n",
              "\n",
              "    .dataframe thead th {\n",
              "        text-align: right;\n",
              "    }\n",
              "</style>\n",
              "<table border=\"1\" class=\"dataframe\">\n",
              "  <thead>\n",
              "    <tr style=\"text-align: right;\">\n",
              "      <th></th>\n",
              "      <th>interval_after_signup</th>\n",
              "    </tr>\n",
              "    <tr>\n",
              "      <th>class</th>\n",
              "      <th></th>\n",
              "    </tr>\n",
              "  </thead>\n",
              "  <tbody>\n",
              "    <tr>\n",
              "      <th>0</th>\n",
              "      <td>5194911.0</td>\n",
              "    </tr>\n",
              "    <tr>\n",
              "      <th>1</th>\n",
              "      <td>1.0</td>\n",
              "    </tr>\n",
              "  </tbody>\n",
              "</table>\n",
              "</div>"
            ],
            "text/plain": [
              "       interval_after_signup\n",
              "class                       \n",
              "0                  5194911.0\n",
              "1                        1.0"
            ]
          },
          "metadata": {
            "tags": []
          },
          "execution_count": 99
        }
      ]
    },
    {
      "cell_type": "code",
      "metadata": {
        "id": "7Ui_Bk1MulOl",
        "outputId": "6d9091a9-1129-4e0c-e691-5ca2513503c4",
        "colab": {
          "base_uri": "https://localhost:8080/",
          "height": 524
        }
      },
      "source": [
        "fraud_data[fraud_data['class'] == 1].head(100)"
      ],
      "execution_count": 100,
      "outputs": [
        {
          "output_type": "execute_result",
          "data": {
            "text/html": [
              "<div>\n",
              "<style scoped>\n",
              "    .dataframe tbody tr th:only-of-type {\n",
              "        vertical-align: middle;\n",
              "    }\n",
              "\n",
              "    .dataframe tbody tr th {\n",
              "        vertical-align: top;\n",
              "    }\n",
              "\n",
              "    .dataframe thead th {\n",
              "        text-align: right;\n",
              "    }\n",
              "</style>\n",
              "<table border=\"1\" class=\"dataframe\">\n",
              "  <thead>\n",
              "    <tr style=\"text-align: right;\">\n",
              "      <th></th>\n",
              "      <th>purchase_value</th>\n",
              "      <th>device_id</th>\n",
              "      <th>source</th>\n",
              "      <th>browser</th>\n",
              "      <th>sex</th>\n",
              "      <th>age</th>\n",
              "      <th>ip_address</th>\n",
              "      <th>class</th>\n",
              "      <th>country</th>\n",
              "      <th>interval_after_signup</th>\n",
              "      <th>signup_days_of_year</th>\n",
              "      <th>signup_seconds_of_day</th>\n",
              "      <th>purchase_days_of_year</th>\n",
              "      <th>purchase_seconds_of_day</th>\n",
              "    </tr>\n",
              "  </thead>\n",
              "  <tbody>\n",
              "    <tr>\n",
              "      <th>136961</th>\n",
              "      <td>24</td>\n",
              "      <td>VLHGCDPFCICDA</td>\n",
              "      <td>SEO</td>\n",
              "      <td>Chrome</td>\n",
              "      <td>F</td>\n",
              "      <td>33</td>\n",
              "      <td>3.432126e+09</td>\n",
              "      <td>1</td>\n",
              "      <td>United States</td>\n",
              "      <td>3327952.0</td>\n",
              "      <td>218</td>\n",
              "      <td>80113</td>\n",
              "      <td>257</td>\n",
              "      <td>38465</td>\n",
              "    </tr>\n",
              "    <tr>\n",
              "      <th>136962</th>\n",
              "      <td>14</td>\n",
              "      <td>YLUQSRNYYIPXU</td>\n",
              "      <td>Ads</td>\n",
              "      <td>Chrome</td>\n",
              "      <td>M</td>\n",
              "      <td>40</td>\n",
              "      <td>3.905319e+09</td>\n",
              "      <td>1</td>\n",
              "      <td>NA</td>\n",
              "      <td>1.0</td>\n",
              "      <td>12</td>\n",
              "      <td>4207</td>\n",
              "      <td>12</td>\n",
              "      <td>4208</td>\n",
              "    </tr>\n",
              "    <tr>\n",
              "      <th>136963</th>\n",
              "      <td>63</td>\n",
              "      <td>ABUBCQDATQMQH</td>\n",
              "      <td>Ads</td>\n",
              "      <td>FireFox</td>\n",
              "      <td>F</td>\n",
              "      <td>46</td>\n",
              "      <td>5.505670e+08</td>\n",
              "      <td>1</td>\n",
              "      <td>United States</td>\n",
              "      <td>7640070.0</td>\n",
              "      <td>49</td>\n",
              "      <td>40723</td>\n",
              "      <td>137</td>\n",
              "      <td>77593</td>\n",
              "    </tr>\n",
              "    <tr>\n",
              "      <th>136964</th>\n",
              "      <td>34</td>\n",
              "      <td>QHEODGCAVJKIQ</td>\n",
              "      <td>SEO</td>\n",
              "      <td>Chrome</td>\n",
              "      <td>M</td>\n",
              "      <td>37</td>\n",
              "      <td>9.408096e+08</td>\n",
              "      <td>1</td>\n",
              "      <td>United States</td>\n",
              "      <td>1.0</td>\n",
              "      <td>12</td>\n",
              "      <td>77710</td>\n",
              "      <td>12</td>\n",
              "      <td>77711</td>\n",
              "    </tr>\n",
              "    <tr>\n",
              "      <th>136965</th>\n",
              "      <td>76</td>\n",
              "      <td>DAKVYHKIEYRBH</td>\n",
              "      <td>SEO</td>\n",
              "      <td>Chrome</td>\n",
              "      <td>F</td>\n",
              "      <td>48</td>\n",
              "      <td>6.361041e+08</td>\n",
              "      <td>1</td>\n",
              "      <td>Hungary</td>\n",
              "      <td>1.0</td>\n",
              "      <td>10</td>\n",
              "      <td>48421</td>\n",
              "      <td>10</td>\n",
              "      <td>48422</td>\n",
              "    </tr>\n",
              "    <tr>\n",
              "      <th>...</th>\n",
              "      <td>...</td>\n",
              "      <td>...</td>\n",
              "      <td>...</td>\n",
              "      <td>...</td>\n",
              "      <td>...</td>\n",
              "      <td>...</td>\n",
              "      <td>...</td>\n",
              "      <td>...</td>\n",
              "      <td>...</td>\n",
              "      <td>...</td>\n",
              "      <td>...</td>\n",
              "      <td>...</td>\n",
              "      <td>...</td>\n",
              "      <td>...</td>\n",
              "    </tr>\n",
              "    <tr>\n",
              "      <th>137056</th>\n",
              "      <td>21</td>\n",
              "      <td>AIGPGDVRDKOKT</td>\n",
              "      <td>SEO</td>\n",
              "      <td>FireFox</td>\n",
              "      <td>F</td>\n",
              "      <td>45</td>\n",
              "      <td>3.058136e+09</td>\n",
              "      <td>1</td>\n",
              "      <td>India</td>\n",
              "      <td>1.0</td>\n",
              "      <td>2</td>\n",
              "      <td>69762</td>\n",
              "      <td>2</td>\n",
              "      <td>69763</td>\n",
              "    </tr>\n",
              "    <tr>\n",
              "      <th>137057</th>\n",
              "      <td>52</td>\n",
              "      <td>PQGKGQACIARBV</td>\n",
              "      <td>Ads</td>\n",
              "      <td>Chrome</td>\n",
              "      <td>F</td>\n",
              "      <td>36</td>\n",
              "      <td>7.203338e+08</td>\n",
              "      <td>1</td>\n",
              "      <td>China</td>\n",
              "      <td>1.0</td>\n",
              "      <td>9</td>\n",
              "      <td>77018</td>\n",
              "      <td>9</td>\n",
              "      <td>77019</td>\n",
              "    </tr>\n",
              "    <tr>\n",
              "      <th>137058</th>\n",
              "      <td>54</td>\n",
              "      <td>XHZBVWFWHSGTQ</td>\n",
              "      <td>SEO</td>\n",
              "      <td>FireFox</td>\n",
              "      <td>M</td>\n",
              "      <td>50</td>\n",
              "      <td>2.249217e+09</td>\n",
              "      <td>1</td>\n",
              "      <td>United States</td>\n",
              "      <td>1.0</td>\n",
              "      <td>1</td>\n",
              "      <td>32483</td>\n",
              "      <td>1</td>\n",
              "      <td>32484</td>\n",
              "    </tr>\n",
              "    <tr>\n",
              "      <th>137059</th>\n",
              "      <td>10</td>\n",
              "      <td>WETYPHOQVLWMK</td>\n",
              "      <td>Ads</td>\n",
              "      <td>FireFox</td>\n",
              "      <td>M</td>\n",
              "      <td>36</td>\n",
              "      <td>2.293333e+09</td>\n",
              "      <td>1</td>\n",
              "      <td>United States</td>\n",
              "      <td>1.0</td>\n",
              "      <td>7</td>\n",
              "      <td>63914</td>\n",
              "      <td>7</td>\n",
              "      <td>63915</td>\n",
              "    </tr>\n",
              "    <tr>\n",
              "      <th>137060</th>\n",
              "      <td>69</td>\n",
              "      <td>UWEPEOUQYEPZF</td>\n",
              "      <td>Direct</td>\n",
              "      <td>Chrome</td>\n",
              "      <td>M</td>\n",
              "      <td>36</td>\n",
              "      <td>2.534293e+09</td>\n",
              "      <td>1</td>\n",
              "      <td>Italy</td>\n",
              "      <td>1.0</td>\n",
              "      <td>8</td>\n",
              "      <td>41850</td>\n",
              "      <td>8</td>\n",
              "      <td>41851</td>\n",
              "    </tr>\n",
              "  </tbody>\n",
              "</table>\n",
              "<p>100 rows × 14 columns</p>\n",
              "</div>"
            ],
            "text/plain": [
              "        purchase_value  ... purchase_seconds_of_day\n",
              "136961              24  ...                   38465\n",
              "136962              14  ...                    4208\n",
              "136963              63  ...                   77593\n",
              "136964              34  ...                   77711\n",
              "136965              76  ...                   48422\n",
              "...                ...  ...                     ...\n",
              "137056              21  ...                   69763\n",
              "137057              52  ...                   77019\n",
              "137058              54  ...                   32484\n",
              "137059              10  ...                   63915\n",
              "137060              69  ...                   41851\n",
              "\n",
              "[100 rows x 14 columns]"
            ]
          },
          "metadata": {
            "tags": []
          },
          "execution_count": 100
        }
      ]
    },
    {
      "cell_type": "code",
      "metadata": {
        "id": "EIv6OBKkuny9",
        "outputId": "a65d0c0a-f75e-4d0a-f106-754c5656b0f5",
        "colab": {
          "base_uri": "https://localhost:8080/",
          "height": 187
        }
      },
      "source": [
        "#for task 4, how to use the prediction:\n",
        "t = (10 * probsBest_recall[:, 1]).astype(int)\n",
        "unique, counts = np.unique(t, return_counts=True)\n",
        "\n",
        "print(np.asarray((unique, counts)).T)"
      ],
      "execution_count": 101,
      "outputs": [
        {
          "output_type": "stream",
          "text": [
            "[[    1   324]\n",
            " [    2 21736]\n",
            " [    3  5090]\n",
            " [    4    72]\n",
            " [    5   101]\n",
            " [    6   168]\n",
            " [    7    44]\n",
            " [    8    25]\n",
            " [    9   114]\n",
            " [   10     2]]\n"
          ],
          "name": "stdout"
        }
      ]
    },
    {
      "cell_type": "markdown",
      "metadata": {
        "id": "kLKceFjMC440"
      },
      "source": [
        "### recommended:\n",
        "### green: 1 - 3 pass\n",
        "### grey: 4-7 need manual investigation\n",
        "### red: 8,9 decline"
      ]
    },
    {
      "cell_type": "code",
      "metadata": {
        "id": "2YVaVew8usAy"
      },
      "source": [
        "# try XGBOOST and compare the performance of RF"
      ],
      "execution_count": null,
      "outputs": []
    },
    {
      "cell_type": "code",
      "metadata": {
        "id": "gTjoK-L93-EM"
      },
      "source": [
        ""
      ],
      "execution_count": null,
      "outputs": []
    }
  ]
}